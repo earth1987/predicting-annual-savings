{
 "cells": [
  {
   "cell_type": "markdown",
   "id": "353939b1-423f-4a1b-8e15-f2ffba61a7bc",
   "metadata": {},
   "source": [
    "# Import dependencies"
   ]
  },
  {
   "cell_type": "code",
   "execution_count": 1,
   "id": "cbe65800-32fd-46ff-a9c8-8b52f6a201b2",
   "metadata": {},
   "outputs": [],
   "source": [
    "from matplotlib import pyplot as plt\n",
    "import missingno as msno\n",
    "import numpy as np\n",
    "import pandas as pd\n",
    "import scipy\n",
    "from scipy.stats import probplot, chi2_contingency, spearmanr\n",
    "import seaborn as sns\n",
    "from imblearn.pipeline import make_pipeline\n",
    "from imblearn.over_sampling import SMOTE\n",
    "from sklearn.compose import ColumnTransformer\n",
    "from sklearn.ensemble import RandomForestClassifier, RandomForestRegressor\n",
    "from sklearn.model_selection import train_test_split, StratifiedKFold, GridSearchCV, KFold, cross_val_predict, learning_curve\n",
    "from sklearn.metrics import f1_score, classification_report, make_scorer, precision_score, recall_score, r2_score, mean_absolute_error, mean_squared_error, precision_recall_curve, auc\n",
    "from sklearn.dummy import DummyClassifier\n",
    "from sklearn.preprocessing import OneHotEncoder\n",
    "from sklearn.pipeline import Pipeline\n",
    "import statsmodels.api as sm\n",
    "from sklearn.linear_model import Lasso, LinearRegression, LogisticRegression, Ridge\n",
    "from sklearn.preprocessing import StandardScaler, MinMaxScaler, QuantileTransformer"
   ]
  },
  {
   "cell_type": "markdown",
   "id": "1e3b6859-5086-4969-990f-b0916abb4610",
   "metadata": {},
   "source": [
    "# Predicting annual net balance\n",
    "\n",
    "**Aim:** \"Build supervised machine learning model(s) to predict annual net savings based on other variables. Include appropriate safeguards against overfitting. Comment on the results. How well do the models perform? Is the performance stable? Are the models interpretable / explainable? Are these models suitable for decision-making? Is there enough signal in the data to build good models? Is there anything suspicious about the results?\""
   ]
  },
  {
   "cell_type": "markdown",
   "id": "13362514-03bf-4eca-afab-3f28de9c43e8",
   "metadata": {},
   "source": [
    "## Summary\n",
    "\n",
    "Due to time constraints, predictive models are only developed to predict annual savings above zero. Two models were created.\n",
    "  \n",
    "* A ridge regression model was implemented, incorporating an additional L2 regularisation term to counteract overfitting. Given that the ordinary least squares model fitted the data very well, the same features were used.\n",
    "\n",
    "* A random forest model was tested as it can handle increased model complexity without requiring the additional interaction terms (which can lead to overfitting in regression models).\n",
    " \n",
    "**1) How well do the models perform?**\n",
    "\n",
    "* Both models demonstrated high performance, characterised by elevated R-squared values and normal residuals. Moreover, learning curves did not reveal significant overfitting.\n",
    "\n",
    "**2) Is the performance stable?**\n",
    "\n",
    "* To assess stability, five-fold cross-validation was employed for the optimised models. The results indicate that both models exhibit reasonable stability.\n",
    "\n",
    "**3) Are the models interpretable / explainable?**\n",
    "\n",
    "* The ridge regression model is more easily interpreted than the random forest model. While feature importance during the training process can be determined for random forests, the coefficients in ridge regression are readily available and more easily interpreted.\n",
    "\n",
    "    Note: Due to the additional regularisation term, the ridge regression model likely exhibits lower variance than the ordinary least squares model at the cost of increased bias in the coefficient estimates.\n",
    "\n",
    "**4) Are these models suitable for decision-making? Is there enough signal in the data to build good models?**\n",
    "\n",
    "* Although the predictive performance of these models is high, it's important to note they are only applicable to individuals with annual savings above zero. Before utilising these models for decision-making, it might be necessary to develop a model predicting the probability of non-zero savings. Preliminary work in the econometrics workbook suggested that there might not be enough signal in the data for this latter task. Future work should involve testing non-linear models on this particular challenge and/or collecting more data."
   ]
  },
  {
   "cell_type": "markdown",
   "id": "5f4c3e48-3309-4db0-92d7-82f0c63aa8af",
   "metadata": {},
   "source": [
    "## Import cleaned data"
   ]
  },
  {
   "cell_type": "code",
   "execution_count": 2,
   "id": "014247a3-9a6c-46e6-b2de-bbebf0103d76",
   "metadata": {},
   "outputs": [
    {
     "name": "stdout",
     "output_type": "stream",
     "text": [
      "Number of rows: 23392\n",
      "Number of columns: 15\n"
     ]
    },
    {
     "data": {
      "text/html": [
       "<div>\n",
       "<style scoped>\n",
       "    .dataframe tbody tr th:only-of-type {\n",
       "        vertical-align: middle;\n",
       "    }\n",
       "\n",
       "    .dataframe tbody tr th {\n",
       "        vertical-align: top;\n",
       "    }\n",
       "\n",
       "    .dataframe thead th {\n",
       "        text-align: right;\n",
       "    }\n",
       "</style>\n",
       "<table border=\"1\" class=\"dataframe\">\n",
       "  <thead>\n",
       "    <tr style=\"text-align: right;\">\n",
       "      <th></th>\n",
       "      <th>cust_unique_id</th>\n",
       "      <th>age</th>\n",
       "      <th>gender</th>\n",
       "      <th>ethnicity_group</th>\n",
       "      <th>geo_region</th>\n",
       "      <th>net_salary</th>\n",
       "      <th>observed_income</th>\n",
       "      <th>childcare_spend</th>\n",
       "      <th>gambling_spend</th>\n",
       "      <th>observed_surplus</th>\n",
       "      <th>credit_score</th>\n",
       "      <th>savings_bal_lbg</th>\n",
       "      <th>annual_net_savings_lbg</th>\n",
       "      <th>other_income</th>\n",
       "      <th>housing_spend</th>\n",
       "    </tr>\n",
       "  </thead>\n",
       "  <tbody>\n",
       "    <tr>\n",
       "      <th>0</th>\n",
       "      <td>12711</td>\n",
       "      <td>40</td>\n",
       "      <td>F</td>\n",
       "      <td>White British</td>\n",
       "      <td>Southwest</td>\n",
       "      <td>45385.08</td>\n",
       "      <td>52337.85</td>\n",
       "      <td>0.0</td>\n",
       "      <td>757.12</td>\n",
       "      <td>33385.24</td>\n",
       "      <td>1522.26</td>\n",
       "      <td>477383.97</td>\n",
       "      <td>0.00</td>\n",
       "      <td>6952.77</td>\n",
       "      <td>18195.490</td>\n",
       "    </tr>\n",
       "    <tr>\n",
       "      <th>1</th>\n",
       "      <td>11308</td>\n",
       "      <td>22</td>\n",
       "      <td>M</td>\n",
       "      <td>South Asian</td>\n",
       "      <td>Scotland</td>\n",
       "      <td>47307.51</td>\n",
       "      <td>57734.58</td>\n",
       "      <td>0.0</td>\n",
       "      <td>0.00</td>\n",
       "      <td>34201.97</td>\n",
       "      <td>1563.66</td>\n",
       "      <td>0.00</td>\n",
       "      <td>0.00</td>\n",
       "      <td>10427.06</td>\n",
       "      <td>23532.610</td>\n",
       "    </tr>\n",
       "    <tr>\n",
       "      <th>2</th>\n",
       "      <td>29607</td>\n",
       "      <td>32</td>\n",
       "      <td>M</td>\n",
       "      <td>White British</td>\n",
       "      <td>Southwest</td>\n",
       "      <td>54393.92</td>\n",
       "      <td>64505.17</td>\n",
       "      <td>0.0</td>\n",
       "      <td>0.00</td>\n",
       "      <td>64505.17</td>\n",
       "      <td>1708.02</td>\n",
       "      <td>271540.82</td>\n",
       "      <td>19258.84</td>\n",
       "      <td>10111.26</td>\n",
       "      <td>21109.689</td>\n",
       "    </tr>\n",
       "    <tr>\n",
       "      <th>3</th>\n",
       "      <td>17150</td>\n",
       "      <td>27</td>\n",
       "      <td>Other</td>\n",
       "      <td>White British</td>\n",
       "      <td>Scotland</td>\n",
       "      <td>46380.41</td>\n",
       "      <td>55337.96</td>\n",
       "      <td>0.0</td>\n",
       "      <td>0.00</td>\n",
       "      <td>55337.96</td>\n",
       "      <td>1620.99</td>\n",
       "      <td>65397.27</td>\n",
       "      <td>16928.97</td>\n",
       "      <td>8957.56</td>\n",
       "      <td>23471.349</td>\n",
       "    </tr>\n",
       "    <tr>\n",
       "      <th>4</th>\n",
       "      <td>28362</td>\n",
       "      <td>34</td>\n",
       "      <td>M</td>\n",
       "      <td>White British</td>\n",
       "      <td>Southeast</td>\n",
       "      <td>68217.27</td>\n",
       "      <td>86613.91</td>\n",
       "      <td>0.0</td>\n",
       "      <td>0.00</td>\n",
       "      <td>60559.66</td>\n",
       "      <td>2140.43</td>\n",
       "      <td>535651.79</td>\n",
       "      <td>24985.39</td>\n",
       "      <td>18396.64</td>\n",
       "      <td>26054.250</td>\n",
       "    </tr>\n",
       "  </tbody>\n",
       "</table>\n",
       "</div>"
      ],
      "text/plain": [
       "   cust_unique_id  age gender ethnicity_group geo_region  net_salary  \\\n",
       "0           12711   40      F   White British  Southwest    45385.08   \n",
       "1           11308   22      M     South Asian   Scotland    47307.51   \n",
       "2           29607   32      M   White British  Southwest    54393.92   \n",
       "3           17150   27  Other   White British   Scotland    46380.41   \n",
       "4           28362   34      M   White British  Southeast    68217.27   \n",
       "\n",
       "   observed_income  childcare_spend  gambling_spend  observed_surplus  \\\n",
       "0         52337.85              0.0          757.12          33385.24   \n",
       "1         57734.58              0.0            0.00          34201.97   \n",
       "2         64505.17              0.0            0.00          64505.17   \n",
       "3         55337.96              0.0            0.00          55337.96   \n",
       "4         86613.91              0.0            0.00          60559.66   \n",
       "\n",
       "   credit_score  savings_bal_lbg  annual_net_savings_lbg  other_income  \\\n",
       "0       1522.26        477383.97                    0.00       6952.77   \n",
       "1       1563.66             0.00                    0.00      10427.06   \n",
       "2       1708.02        271540.82                19258.84      10111.26   \n",
       "3       1620.99         65397.27                16928.97       8957.56   \n",
       "4       2140.43        535651.79                24985.39      18396.64   \n",
       "\n",
       "   housing_spend  \n",
       "0      18195.490  \n",
       "1      23532.610  \n",
       "2      21109.689  \n",
       "3      23471.349  \n",
       "4      26054.250  "
      ]
     },
     "execution_count": 2,
     "metadata": {},
     "output_type": "execute_result"
    }
   ],
   "source": [
    "# Training data\n",
    "clean_train_df = pd.read_csv('../data/cleaned/clean_train.csv')\n",
    "print(f\"Number of rows: {clean_train_df.shape[0]}\")\n",
    "print(f\"Number of columns: {clean_train_df.shape[1]}\")\n",
    "clean_train_df.head(5)"
   ]
  },
  {
   "cell_type": "code",
   "execution_count": 3,
   "id": "4056f955-62b8-446f-ac98-7346910563f2",
   "metadata": {},
   "outputs": [
    {
     "name": "stdout",
     "output_type": "stream",
     "text": [
      "Number of rows: 5862\n",
      "Number of columns: 15\n"
     ]
    },
    {
     "data": {
      "text/html": [
       "<div>\n",
       "<style scoped>\n",
       "    .dataframe tbody tr th:only-of-type {\n",
       "        vertical-align: middle;\n",
       "    }\n",
       "\n",
       "    .dataframe tbody tr th {\n",
       "        vertical-align: top;\n",
       "    }\n",
       "\n",
       "    .dataframe thead th {\n",
       "        text-align: right;\n",
       "    }\n",
       "</style>\n",
       "<table border=\"1\" class=\"dataframe\">\n",
       "  <thead>\n",
       "    <tr style=\"text-align: right;\">\n",
       "      <th></th>\n",
       "      <th>cust_unique_id</th>\n",
       "      <th>age</th>\n",
       "      <th>gender</th>\n",
       "      <th>ethnicity_group</th>\n",
       "      <th>geo_region</th>\n",
       "      <th>net_salary</th>\n",
       "      <th>observed_income</th>\n",
       "      <th>childcare_spend</th>\n",
       "      <th>gambling_spend</th>\n",
       "      <th>observed_surplus</th>\n",
       "      <th>credit_score</th>\n",
       "      <th>savings_bal_lbg</th>\n",
       "      <th>annual_net_savings_lbg</th>\n",
       "      <th>other_income</th>\n",
       "      <th>housing_spend</th>\n",
       "    </tr>\n",
       "  </thead>\n",
       "  <tbody>\n",
       "    <tr>\n",
       "      <th>0</th>\n",
       "      <td>12711</td>\n",
       "      <td>40</td>\n",
       "      <td>F</td>\n",
       "      <td>White British</td>\n",
       "      <td>Southwest</td>\n",
       "      <td>45385.08</td>\n",
       "      <td>52337.85</td>\n",
       "      <td>0.0</td>\n",
       "      <td>757.12</td>\n",
       "      <td>33385.24</td>\n",
       "      <td>1522.26</td>\n",
       "      <td>477383.97</td>\n",
       "      <td>0.00</td>\n",
       "      <td>6952.77</td>\n",
       "      <td>18195.490</td>\n",
       "    </tr>\n",
       "    <tr>\n",
       "      <th>1</th>\n",
       "      <td>11308</td>\n",
       "      <td>22</td>\n",
       "      <td>M</td>\n",
       "      <td>South Asian</td>\n",
       "      <td>Scotland</td>\n",
       "      <td>47307.51</td>\n",
       "      <td>57734.58</td>\n",
       "      <td>0.0</td>\n",
       "      <td>0.00</td>\n",
       "      <td>34201.97</td>\n",
       "      <td>1563.66</td>\n",
       "      <td>0.00</td>\n",
       "      <td>0.00</td>\n",
       "      <td>10427.06</td>\n",
       "      <td>23532.610</td>\n",
       "    </tr>\n",
       "    <tr>\n",
       "      <th>2</th>\n",
       "      <td>29607</td>\n",
       "      <td>32</td>\n",
       "      <td>M</td>\n",
       "      <td>White British</td>\n",
       "      <td>Southwest</td>\n",
       "      <td>54393.92</td>\n",
       "      <td>64505.17</td>\n",
       "      <td>0.0</td>\n",
       "      <td>0.00</td>\n",
       "      <td>64505.17</td>\n",
       "      <td>1708.02</td>\n",
       "      <td>271540.82</td>\n",
       "      <td>19258.84</td>\n",
       "      <td>10111.26</td>\n",
       "      <td>21109.689</td>\n",
       "    </tr>\n",
       "    <tr>\n",
       "      <th>3</th>\n",
       "      <td>17150</td>\n",
       "      <td>27</td>\n",
       "      <td>Other</td>\n",
       "      <td>White British</td>\n",
       "      <td>Scotland</td>\n",
       "      <td>46380.41</td>\n",
       "      <td>55337.96</td>\n",
       "      <td>0.0</td>\n",
       "      <td>0.00</td>\n",
       "      <td>55337.96</td>\n",
       "      <td>1620.99</td>\n",
       "      <td>65397.27</td>\n",
       "      <td>16928.97</td>\n",
       "      <td>8957.56</td>\n",
       "      <td>23471.349</td>\n",
       "    </tr>\n",
       "    <tr>\n",
       "      <th>4</th>\n",
       "      <td>28362</td>\n",
       "      <td>34</td>\n",
       "      <td>M</td>\n",
       "      <td>White British</td>\n",
       "      <td>Southeast</td>\n",
       "      <td>68217.27</td>\n",
       "      <td>86613.91</td>\n",
       "      <td>0.0</td>\n",
       "      <td>0.00</td>\n",
       "      <td>60559.66</td>\n",
       "      <td>2140.43</td>\n",
       "      <td>535651.79</td>\n",
       "      <td>24985.39</td>\n",
       "      <td>18396.64</td>\n",
       "      <td>26054.250</td>\n",
       "    </tr>\n",
       "  </tbody>\n",
       "</table>\n",
       "</div>"
      ],
      "text/plain": [
       "   cust_unique_id  age gender ethnicity_group geo_region  net_salary  \\\n",
       "0           12711   40      F   White British  Southwest    45385.08   \n",
       "1           11308   22      M     South Asian   Scotland    47307.51   \n",
       "2           29607   32      M   White British  Southwest    54393.92   \n",
       "3           17150   27  Other   White British   Scotland    46380.41   \n",
       "4           28362   34      M   White British  Southeast    68217.27   \n",
       "\n",
       "   observed_income  childcare_spend  gambling_spend  observed_surplus  \\\n",
       "0         52337.85              0.0          757.12          33385.24   \n",
       "1         57734.58              0.0            0.00          34201.97   \n",
       "2         64505.17              0.0            0.00          64505.17   \n",
       "3         55337.96              0.0            0.00          55337.96   \n",
       "4         86613.91              0.0            0.00          60559.66   \n",
       "\n",
       "   credit_score  savings_bal_lbg  annual_net_savings_lbg  other_income  \\\n",
       "0       1522.26        477383.97                    0.00       6952.77   \n",
       "1       1563.66             0.00                    0.00      10427.06   \n",
       "2       1708.02        271540.82                19258.84      10111.26   \n",
       "3       1620.99         65397.27                16928.97       8957.56   \n",
       "4       2140.43        535651.79                24985.39      18396.64   \n",
       "\n",
       "   housing_spend  \n",
       "0      18195.490  \n",
       "1      23532.610  \n",
       "2      21109.689  \n",
       "3      23471.349  \n",
       "4      26054.250  "
      ]
     },
     "execution_count": 3,
     "metadata": {},
     "output_type": "execute_result"
    }
   ],
   "source": [
    "# Test data\n",
    "clean_test_df = pd.read_csv('../data/cleaned/clean_test.csv')\n",
    "print(f\"Number of rows: {clean_test_df.shape[0]}\")\n",
    "print(f\"Number of columns: {clean_test_df.shape[1]}\")\n",
    "clean_train_df.head(5)"
   ]
  },
  {
   "cell_type": "code",
   "execution_count": 4,
   "id": "ad94c528-56f8-44e2-83cc-05ac388f10df",
   "metadata": {},
   "outputs": [],
   "source": [
    "# Update cust_unique_id -> categorical dtype\n",
    "clean_train_df['cust_unique_id'] = pd.Categorical(\n",
    "    clean_train_df['cust_unique_id'], list(clean_train_df['cust_unique_id'].unique()), ordered=True\n",
    ")\n",
    "clean_test_df['cust_unique_id'] = pd.Categorical(\n",
    "    clean_test_df['cust_unique_id'], list(clean_test_df['cust_unique_id'].unique()), ordered=True\n",
    ")"
   ]
  },
  {
   "cell_type": "code",
   "execution_count": 5,
   "id": "bf55276d-a16d-4886-b53b-8dbcc0916455",
   "metadata": {},
   "outputs": [
    {
     "name": "stdout",
     "output_type": "stream",
     "text": [
      "\n",
      "-----------------------------Training set-----------------------------\n",
      "\n",
      "<class 'pandas.core.frame.DataFrame'>\n",
      "RangeIndex: 23392 entries, 0 to 23391\n",
      "Data columns (total 15 columns):\n",
      " #   Column                  Non-Null Count  Dtype   \n",
      "---  ------                  --------------  -----   \n",
      " 0   cust_unique_id          23392 non-null  category\n",
      " 1   age                     23392 non-null  int64   \n",
      " 2   gender                  23392 non-null  object  \n",
      " 3   ethnicity_group         23392 non-null  object  \n",
      " 4   geo_region              23392 non-null  object  \n",
      " 5   net_salary              23392 non-null  float64 \n",
      " 6   observed_income         23392 non-null  float64 \n",
      " 7   childcare_spend         23392 non-null  float64 \n",
      " 8   gambling_spend          23392 non-null  float64 \n",
      " 9   observed_surplus        23392 non-null  float64 \n",
      " 10  credit_score            23392 non-null  float64 \n",
      " 11  savings_bal_lbg         23392 non-null  float64 \n",
      " 12  annual_net_savings_lbg  23392 non-null  float64 \n",
      " 13  other_income            23392 non-null  float64 \n",
      " 14  housing_spend           23392 non-null  float64 \n",
      "dtypes: category(1), float64(10), int64(1), object(3)\n",
      "memory usage: 3.2+ MB\n"
     ]
    },
    {
     "data": {
      "text/plain": [
       "None"
      ]
     },
     "metadata": {},
     "output_type": "display_data"
    },
    {
     "name": "stdout",
     "output_type": "stream",
     "text": [
      "\n",
      "-----------------------------Test set-----------------------------\n",
      "\n",
      "<class 'pandas.core.frame.DataFrame'>\n",
      "RangeIndex: 23392 entries, 0 to 23391\n",
      "Data columns (total 15 columns):\n",
      " #   Column                  Non-Null Count  Dtype   \n",
      "---  ------                  --------------  -----   \n",
      " 0   cust_unique_id          23392 non-null  category\n",
      " 1   age                     23392 non-null  int64   \n",
      " 2   gender                  23392 non-null  object  \n",
      " 3   ethnicity_group         23392 non-null  object  \n",
      " 4   geo_region              23392 non-null  object  \n",
      " 5   net_salary              23392 non-null  float64 \n",
      " 6   observed_income         23392 non-null  float64 \n",
      " 7   childcare_spend         23392 non-null  float64 \n",
      " 8   gambling_spend          23392 non-null  float64 \n",
      " 9   observed_surplus        23392 non-null  float64 \n",
      " 10  credit_score            23392 non-null  float64 \n",
      " 11  savings_bal_lbg         23392 non-null  float64 \n",
      " 12  annual_net_savings_lbg  23392 non-null  float64 \n",
      " 13  other_income            23392 non-null  float64 \n",
      " 14  housing_spend           23392 non-null  float64 \n",
      "dtypes: category(1), float64(10), int64(1), object(3)\n",
      "memory usage: 3.2+ MB\n"
     ]
    },
    {
     "data": {
      "text/plain": [
       "None"
      ]
     },
     "metadata": {},
     "output_type": "display_data"
    }
   ],
   "source": [
    "print(f'\\n-----------------------------Training set-----------------------------\\n')\n",
    "display(clean_train_df.info())\n",
    "print(f'\\n-----------------------------Test set-----------------------------\\n')\n",
    "display(clean_train_df.info())"
   ]
  },
  {
   "cell_type": "markdown",
   "id": "becb1563-8732-4152-988b-fd3032b30b7f",
   "metadata": {},
   "source": [
    "## Ridge Regression"
   ]
  },
  {
   "cell_type": "markdown",
   "id": "80eb104b-30e7-4502-a18b-9fc3e2255a59",
   "metadata": {},
   "source": [
    "### Background"
   ]
  },
  {
   "cell_type": "markdown",
   "id": "be154f24-50c4-446a-b40c-cffd55b778cc",
   "metadata": {},
   "source": [
    "#### Ridge regression"
   ]
  },
  {
   "cell_type": "markdown",
   "id": "d93c2c10-fcd4-416a-a9d3-037ae1a95e9c",
   "metadata": {},
   "source": [
    "**1) Assumptions**\n",
    "\n",
    "**_Linear data generating process_**\n",
    "\n",
    "* The dependent variable is linearly dependent on the predictive variables (i.e. coefficients all raised to the power of one)\n",
    "\n",
    "    $Y = b_0 + b_1X_1 + b_2X_2 + ... + b_pX_p + e$\n",
    "\n",
    "    *Note: Linear regression models can model curvature by including nonlinear variables (e.g. $X_i^2$)*\n",
    "\n",
    "**_Error_**\n",
    "\n",
    "* The conditions are relaxed as the focus is on prediction\n",
    "\n",
    "* A strong model will meet the below:\n",
    "\n",
    "        * All independent variables are uncorrelated with the error term (AKA Exogeneity)\n",
    "    \n",
    "            Note: It leads to bias in the coefficient estimates. It can indicate a missing variable or measurement error.\n",
    "    \n",
    "        * The error term has a mean of zero\n",
    "    \n",
    "        * The error term has constant variance (aka homoskedasticity)\n",
    "    \n",
    "        * The error terms are not correlated across observations (i.e. no autocorrelation)\n",
    "    \n",
    "            Note: Autocorrelation indicates non-random error.\n",
    "    \n",
    "        * The residuals are normally distributed (OPTIONAL)\n",
    "    \n",
    "            Note: Required for unbiased estimates of standard error etc."
   ]
  },
  {
   "cell_type": "markdown",
   "id": "a23a7b75-e943-4112-813a-b0323d5ca07b",
   "metadata": {},
   "source": [
    "---------------------"
   ]
  },
  {
   "cell_type": "markdown",
   "id": "3d9db6c1-8b43-4006-9c77-93727a95bde8",
   "metadata": {},
   "source": [
    "**2) Overfitting**\n",
    "\n",
    "**_Definition:_**\n",
    "\n",
    "* Overfitting is a common issue in machine learning where a model learns the training data too well capturing noise\n",
    "\n",
    "* This leads to poor generalisation\n",
    "\n",
    "**_Ridge regression:_**\n",
    "\n",
    "* The coefficients obtained from ridge regression are shrunken toward zero\n",
    "\n",
    "* This results is less complex and less sensitive models, thereby reducing overfitting"
   ]
  },
  {
   "cell_type": "markdown",
   "id": "a7b4b274-be61-4f12-aaa9-e9f6a09b8298",
   "metadata": {},
   "source": [
    "---------------------"
   ]
  },
  {
   "cell_type": "markdown",
   "id": "ef10965c-7aa9-44c9-b569-f4ab0d91c28c",
   "metadata": {},
   "source": [
    "**2) Implementation**\n",
    "\n",
    "**_Optimisation_**\n",
    "\n",
    "* Ridge regression can be solved via two methods:\n",
    "\n",
    "    1. ***Algebraically*** via the below closed form solution.\n",
    "    \n",
    "        $ W = (XX^T + \\lambda I)^{-1}Xy^T $\n",
    "        \n",
    "        Where, I is the identity matrix\n",
    "    \n",
    "    2. ***Iteratively*** using the gradient descent algorithm to estimate parameter coefficients.\n",
    "\n",
    "**_Objective function_**\n",
    "\n",
    "* MSE cost function + squared-L2-norm:\n",
    "\n",
    "    $ \\min_{w} \\frac{1}{N}\\sum_{i=1}^N (y_i - \\hat{y}_i)^2 + \\lambda||W||_2^2 $ \n",
    "    \n",
    "    $ \\min_{w} \\frac{1}{N}\\sum_{i=1}^N (y_i - \\sum_{j=0}^d w_j x_j)^2 + \\lambda \\left(\\sqrt{\\sum_{j=1}^d |w_j|^2}\\right)^2$ \n",
    "    \n",
    "    $ \\min_{w} \\frac{1}{N}\\sum_{i=1}^N (y_i - \\sum_{j=0}^d w_j x_j)^2 + \\lambda \\sum_{j=1}^d |w_j|^2$ \n",
    "\n",
    "    *Where, lambda is the tuning parameter (larger values result in stronger regularization), N is the number of training samples, W is the d-dimensional vector of model parameters (i.e. weights), which includes a dummy variable x<sub>0</sub>=1 for the y-intercept.*\n",
    "\n",
    "    Note: In practice, the cost function often uses 1/2N to simplify implementation.\n",
    "\n",
    "**_L2-regularisation_**\n",
    "\n",
    "* The *squared* L2-norm is used to penalise model complexity\n",
    "\n",
    "* The L2 term is a function of the number and size of the coefficients. It is equivalent to Euclidian distance:\n",
    "\n",
    "    $ ||W||_2 = \\sqrt{\\sum_{j=1}^d w_j^2} $\n",
    "    \n",
    "    *Where, W is the d-dimensional vector of model parameters (i.e. weights), which includes a dummy variable x<sub>0</sub>=1 for the y-intercept.*\n",
    "\n",
    "*Properties:*\n",
    "\n",
    "* The L2-norm squares the individual model parameters. This means large weights are much more influential than smaller weights. Compared to L1 regularisation, L2 therefore prioritises minimising larger weights\n",
    "\n",
    "* In practice regularisation is achieved by keeping the magnitude of the weight vector below a threshold (e.g. 1)\n",
    "\n",
    "    $\\sum_{j=1}^d w_j^2 \\leq 1 $\n",
    "\n",
    "    E.g. $|w_1|^2 + |w_2|^2 < 1$\n",
    "\n",
    "* The area in which the optimal weight vector resides will therefore take the shape of a circle centred on the origin\n",
    "\n",
    "    <img src=\"figures/l1_l2_constraint.png\" align=\"center\" width=\"250\" /> <img src=\"figures/l2_surface.png\" align=\"center\" width=\"350\" />\n",
    "\n",
    "* If gradient descent is used to optimise weights, L2 is less likely to to reduce coefficients to zero than L1 regularisation.\n",
    "\n",
    "* Why? The cost surface is smoother. Also, the gradient decreases as weights approach zero in magnitude. This slows the rate at which a weight decreases in value. \n",
    "\n",
    "* L2 therefore tends lead to weights with similar sizes. Although weights can get very very small, L2 is less likely to reduce coefficients to zero."
   ]
  },
  {
   "cell_type": "markdown",
   "id": "55bb0d80-4986-450f-8c2f-44abd47ce0d0",
   "metadata": {},
   "source": [
    "---------------------"
   ]
  },
  {
   "cell_type": "markdown",
   "id": "770f6a46-25e4-4315-b515-ea93275cfefc",
   "metadata": {},
   "source": [
    "**3) Interpretation**\n",
    "\n",
    "* Ridge regression results in biased estimates of coefficients\n",
    "\n",
    "* Coefficients reflect the relationship between the independent variables and the dependent variable *after regularisation*\n",
    "\n",
    "* Implication:\n",
    "\n",
    "    - Absolute magnitudes does not directly represent variable importance\n",
    "      \n",
    "    - It's difficult to compare models with a different magnitude regularization parameter"
   ]
  },
  {
   "cell_type": "markdown",
   "id": "8c91a996-c6f5-4cf7-8782-36b3d8bd6550",
   "metadata": {},
   "source": [
    "---------------------"
   ]
  },
  {
   "cell_type": "markdown",
   "id": "45002668-4040-4033-ae64-75071e979cd2",
   "metadata": {},
   "source": [
    "#### Assessing overfitting\n",
    "\n",
    "* 5-fold cross validation is used to assess overfitting as a function of dataset size\n",
    "\n",
    "* A larger dataset provides more diverse examples, models are likely to capture patterns that are more consistent and less sensitive to noise or outliers\n",
    "\n",
    "**_Confidence intervals_**\n",
    "\n",
    "    \"Confidence intervals define the interval which has a 0.95 probability of containing the true parameter\"\n",
    "\n",
    "    \"the long run proportion of sample confidence intervals which will contain a true parameter\"\n",
    "\n",
    "* Ridge regression outputs a point estimate of MSE\n",
    "\n",
    "* This will vary from sample-to-sample\n",
    "\n",
    "* The confidence interval quantifies the uncertainty\n",
    "\n",
    "**_1. Bootstrap estimate_**\n",
    "\n",
    "* Estimate sampling distribution by bootstrapping (sampling w. replacement) & fitting multiple times\n",
    "\n",
    "* Confidence interval encloses the relevant % of the sampling distribution\n",
    "\n",
    "**_2. t-score_**\n",
    "\n",
    "* Compute MSE\n",
    "\n",
    "    $MSE = \\sum_{i=1}^n\\bigl(y_i - \\hat{y_i}\\bigr)^2$\n",
    "\n",
    "* Determine dof for t-distribution\n",
    "\n",
    "  $df_{residual} = n - df_{model} = n- p - 1$\n",
    "\n",
    "    *Model parameters are estimates and therefore introduce constraints on variability of residuals*\n",
    "\n",
    "* Choose a confidence level\n",
    "\n",
    "* Estimate the standard error\n",
    "\n",
    "    $SE = \\frac{s}{\\sqrt{n}}$\n",
    "\n",
    "    *Use the standard deviation of the squared residuals*\n",
    "\n",
    "* Compute critical t statistic value for the given confidence level\n",
    "\n",
    "  *This will depend on the degrees of freedom*\n",
    " \n",
    "* Compute margin of error\n",
    "\n",
    "  $Margin = S.E \\times t_{critical}$\n",
    "\n",
    "* Construct confidence interval\n",
    "\n",
    "    $CI = MSE \\pm margin$"
   ]
  },
  {
   "cell_type": "markdown",
   "id": "ad5b68ed-bc42-45e9-88d4-efa4e6cf8399",
   "metadata": {},
   "source": [
    "---------------------"
   ]
  },
  {
   "cell_type": "markdown",
   "id": "9da83965-20fc-43d7-adec-5f1c0cb97273",
   "metadata": {},
   "source": [
    "### Feature preprocessing\n",
    "* Given the good fit exhibited by the prior ordinary least squares model, the same feature engineering steps are conducted.\n",
    "\n",
    "    Note: Additional min-max scaling is conducted so no variable dominates optimisation."
   ]
  },
  {
   "cell_type": "code",
   "execution_count": 6,
   "id": "9cd0638b-75e8-43b8-a05f-2fae5082166d",
   "metadata": {},
   "outputs": [],
   "source": [
    "# Filter out zero values\n",
    "clean_train_df = clean_train_df.loc[clean_train_df['annual_net_savings_lbg']!=0].reset_index(drop=True)\n",
    "clean_test_df = clean_test_df.loc[clean_test_df['annual_net_savings_lbg']!=0].reset_index(drop=True)"
   ]
  },
  {
   "cell_type": "code",
   "execution_count": 7,
   "id": "b4a4acad-32e0-4f7b-a226-0cecac4fb932",
   "metadata": {},
   "outputs": [],
   "source": [
    "def preprocess_ridge_features(df):\n",
    "    \"\"\"\n",
    "    Remove selected features and apply required feature engineering steps.\n",
    "    \"\"\"\n",
    "    # Drop selected features\n",
    "    df = df.drop(['net_salary', 'observed_income', 'other_income', 'cust_unique_id', 'gambling_spend'], axis=1)\n",
    "\n",
    "    # Add breakpoint dummy variables for age\n",
    "    df['age_dummy_1'] = np.where(df['age'] < 25, 1, 0)\n",
    "    df['age_dummy_2'] = np.where((df['age'] >= 25) & (df['age'] < 55), 1, 0)\n",
    "    df['age_dummy_3'] = np.where(df['age'] >= 55, 1, 0)\n",
    "\n",
    "    # Add interaction terms for age\n",
    "    df['age_interaction_1'] = df['age_dummy_1'] * df['age']\n",
    "    df['age_interaction_2'] = df['age_dummy_2'] * df['age']\n",
    "    df['age_interaction_3'] = df['age_dummy_3'] * df['age']\n",
    "\n",
    "    # Add breakpoint dummy variable for savings_bal_lbg\n",
    "    df['savings_bal_dummy'] = np.where(df['savings_bal_lbg'] > 2e6, 1, 0)\n",
    "\n",
    "    # Add interaction term for savings_bal_lbg\n",
    "    df['savings_bal_interaction'] = df['savings_bal_dummy'] * df['savings_bal_lbg']\n",
    "\n",
    "    # Add dummy variable for predictive features with a high proportion of zeros\n",
    "    df['zero_savings_bal'] = (df['savings_bal_lbg'] == 0).astype(int)\n",
    "    df['zero_childcare_spend'] = (df['childcare_spend'] == 0).astype(int)\n",
    "\n",
    "    # Divide predictive features from target\n",
    "    y_train = df['annual_net_savings_lbg']\n",
    "    X_train = df.drop(['annual_net_savings_lbg'], axis=1)\n",
    "\n",
    "    # One-hot-encode the categorical features\n",
    "    for col in ['gender', 'geo_region', 'ethnicity_group']:\n",
    "        X_train = pd.get_dummies(X_train, columns=[col], prefix=col, dtype='int64', drop_first=True)\n",
    "\n",
    "    return X_train, y_train"
   ]
  },
  {
   "cell_type": "code",
   "execution_count": 8,
   "id": "51aa2bbf-9f72-43f0-8a62-946ce6236cca",
   "metadata": {},
   "outputs": [],
   "source": [
    "# Preprocess features\n",
    "X_train, y_train = preprocess_ridge_features(clean_train_df)"
   ]
  },
  {
   "cell_type": "code",
   "execution_count": 9,
   "id": "5fd34937-71fe-49e8-b6b6-fe390e6f3db7",
   "metadata": {},
   "outputs": [],
   "source": [
    "# Drop features with insignificant p-values in OLS\n",
    "features_to_drop = ['childcare_spend', 'observed_surplus', 'age_dummy_1', 'savings_bal_dummy', 'zero_childcare_spend',\n",
    "                    'gender_F', 'gender_M', 'gender_Other', 'geo_region_North', 'geo_region_Scotland', 'geo_region_Southeast',\n",
    "                    'geo_region_Southwest', 'geo_region_Wales', 'ethnicity_group_Other', 'ethnicity_group_White British',\n",
    "                    'ethnicity_group_White Other']\n",
    "X_train = X_train.drop(features_to_drop, axis=1)"
   ]
  },
  {
   "cell_type": "markdown",
   "id": "33d687ef-731a-45a8-81a8-855894426ea3",
   "metadata": {},
   "source": [
    "### Pipeline"
   ]
  },
  {
   "cell_type": "code",
   "execution_count": 10,
   "id": "d35ae475-8eee-4a07-95c1-01d0d0008266",
   "metadata": {},
   "outputs": [],
   "source": [
    "# Create Ridge regression pipeline\n",
    "categorical_features = X_train.select_dtypes('object').columns\n",
    "continuous_features = X_train.select_dtypes('number').columns\n",
    "\n",
    "ridge_preprocessor = ColumnTransformer(\n",
    "    transformers=[('scaler', MinMaxScaler(), continuous_features),\n",
    "                  ('onehot', OneHotEncoder(handle_unknown='ignore'), categorical_features)],\n",
    "    remainder='passthrough'\n",
    ")\n",
    "ridge_pipeline = Pipeline([\n",
    "    ('preprocessor', ridge_preprocessor),\n",
    "    ('ridge', Ridge(max_iter=10000, random_state=42))]\n",
    "                   )"
   ]
  },
  {
   "cell_type": "markdown",
   "id": "f672f62d-cd51-4e74-84d4-3cd94e9a17db",
   "metadata": {},
   "source": [
    "### Hyperparameter optimisation\n",
    "* Five-fold cross validation gridsearches are used to optimise the strength of the regularisation parameter."
   ]
  },
  {
   "cell_type": "code",
   "execution_count": 11,
   "id": "b3a35ab5-5cc6-4806-afb0-9c8827bae679",
   "metadata": {},
   "outputs": [
    {
     "name": "stdout",
     "output_type": "stream",
     "text": [
      "-3333288.7178949923\n",
      "{'ridge__alpha': 0.1}\n"
     ]
    }
   ],
   "source": [
    "# Cross-validated grid search\n",
    "ridge_param_grid = {'ridge__alpha': [0.001, 0.01, 0.1]}\n",
    "ridge_grid_search = GridSearchCV(\n",
    "    ridge_pipeline, ridge_param_grid, cv=5, scoring='neg_mean_squared_error'\n",
    ")\n",
    "ridge_grid_search.fit(\n",
    "    X_train, y_train\n",
    ")\n",
    "\n",
    "# Access the best model's attributes\n",
    "ridge_best_model = ridge_grid_search.best_estimator_\n",
    "ridge_best_params = ridge_grid_search.best_params_\n",
    "ridge_best_score = ridge_grid_search.best_score_\n",
    "print(ridge_best_score)\n",
    "print(ridge_best_params)"
   ]
  },
  {
   "cell_type": "markdown",
   "id": "2954125e-bcb8-474d-8dc6-1e85081d51cf",
   "metadata": {},
   "source": [
    "### Evaluation"
   ]
  },
  {
   "cell_type": "markdown",
   "id": "40c4946f-6db6-4486-99f4-9bb36f2f0473",
   "metadata": {},
   "source": [
    "**Learning curve**\n",
    "* A learning curve is plotted for the optimal model. This reveals no overfitting."
   ]
  },
  {
   "cell_type": "code",
   "execution_count": 12,
   "id": "c35bab49-713c-4135-a7ec-2a97894000db",
   "metadata": {},
   "outputs": [],
   "source": [
    "# Update pipeline\n",
    "ridge_pipeline = Pipeline([\n",
    "    ('preprocessor', ridge_preprocessor),\n",
    "    ('ridge', Ridge(max_iter=10000, alpha=0.01, random_state=42))]\n",
    ")\n",
    "\n",
    "# Create a learning curve\n",
    "train_sizes, train_scores, valid_scores = learning_curve(\n",
    "    ridge_pipeline, X_train, y_train, train_sizes=[0.1, 0.25, 0.5, 0.75, 1.0], cv=5, scoring='neg_mean_squared_error', random_state=42\n",
    ")\n",
    "\n",
    "# Calculate score means and standard deviations\n",
    "train_scores_mean = -np.mean(train_scores, axis=1)\n",
    "train_scores_std = np.std(train_scores, axis=1)\n",
    "valid_scores_mean = -np.mean(valid_scores, axis=1)\n",
    "valid_scores_std = np.std(valid_scores, axis=1)"
   ]
  },
  {
   "cell_type": "code",
   "execution_count": 13,
   "id": "54a81763-9e3a-4e16-a863-c0784f537b62",
   "metadata": {},
   "outputs": [
    {
     "data": {
      "image/png": "[encoded data removed]",
      "text/plain": [
       "<Figure size 640x480 with 1 Axes>"
      ]
     },
     "metadata": {},
     "output_type": "display_data"
    }
   ],
   "source": [
    "# Plot the learning curve with confidence intervals\n",
    "fig, axes = plt.subplots(\n",
    "    figsize=(6.4, 4.8)\n",
    ")\n",
    "axes.tick_params(bottom=False, left=False)\n",
    "axes.grid(False)\n",
    "axes.spines[['top', 'right']].set_visible(False)\n",
    "axes.spines[['left', 'bottom']].set_color('dimgray')\n",
    "\n",
    "axes.plot(train_sizes, train_scores_mean, label='Training Set', marker='o')\n",
    "axes.fill_between(train_sizes, train_scores_mean - train_scores_std, train_scores_mean + train_scores_std, alpha=0.1)\n",
    "axes.plot(train_sizes, valid_scores_mean, label='Validation Set', marker='o')\n",
    "axes.fill_between(train_sizes, valid_scores_mean - valid_scores_std, valid_scores_mean + valid_scores_std, alpha=0.1)\n",
    "axes.set_xlabel('Training Set Size', fontsize=10, color='dimgray')\n",
    "axes.set_ylabel('Mean Squared Error', fontsize=10, color='dimgray')\n",
    "axes.legend();"
   ]
  },
  {
   "cell_type": "markdown",
   "id": "4ff1d0c1-8a6f-41e9-9e8c-561ebbf26f22",
   "metadata": {},
   "source": [
    "**Predictive performance**\n",
    "* The stability of the optimal model is assessed using 5-fold cross validation. No significant deviations in R-squared or the normality of residuals is observed between folds."
   ]
  },
  {
   "cell_type": "code",
   "execution_count": 14,
   "id": "efc2928c-22e2-4afa-b387-a9c5909f4eab",
   "metadata": {},
   "outputs": [
    {
     "name": "stdout",
     "output_type": "stream",
     "text": [
      "R^2: 0.923 +/- 0.002\n",
      "MAE: 1455.257 +/- 16.36\n",
      "RMSE: 1825.526 +/- 70650.266\n"
     ]
    },
    {
     "data": {
      "image/png": "[encoded data removed]",
      "text/plain": [
       "<Figure size 1280x240 with 5 Axes>"
      ]
     },
     "metadata": {},
     "output_type": "display_data"
    }
   ],
   "source": [
    "fig, axes = plt.subplots(nrows=1, ncols=5, constrained_layout=True, figsize=(6.4*2, 4.8/2))\n",
    "cv = KFold(n_splits=5, shuffle=True, random_state=42)\n",
    "\n",
    "r2, mae, rmse = [], [], []\n",
    "\n",
    "for i, (train_index, test_index) in enumerate(cv.split(X_train, y_train)):\n",
    "    X_train_k, y_train_k = X_train.iloc[train_index], y_train.iloc[train_index]\n",
    "    X_test_k, y_test_k = X_train.iloc[test_index], y_train.iloc[test_index]\n",
    "\n",
    "    ridge_pipeline.fit(X_train_k, y_train_k)\n",
    "    y_pred_k = ridge_pipeline.predict(X_test_k)\n",
    "\n",
    "    r2.append(r2_score(y_test_k, y_pred_k))\n",
    "    mae.append(mean_absolute_error(y_test_k, y_pred_k))\n",
    "    rmse.append(mean_squared_error(y_test_k, y_pred_k))\n",
    "\n",
    "    residuals = y_test_k - y_pred_k\n",
    "    standardised_residuals = residuals / np.std(residuals)\n",
    "\n",
    "    sm.qqplot(\n",
    "        standardised_residuals, line='45', ax=axes[i]\n",
    "    )\n",
    "    axes[i].set_xlabel('Theoretical quantiles', fontsize=10, color='dimgray')\n",
    "    axes[i].set_ylabel('Sample quantiles', fontsize=10, color='dimgray');\n",
    "\n",
    "for ax in axes:\n",
    "    ax.tick_params(bottom=False, left=False)\n",
    "    ax.grid(False)\n",
    "    ax.spines[['top', 'right']].set_visible(False)\n",
    "    ax.spines[['left', 'bottom']].set_color('dimgray')\n",
    "\n",
    "print(f\"R^2: {round(np.mean(r2), 3)} +/- {round(np.std(r2), 3)}\")\n",
    "print(f\"MAE: {round(np.mean(mae), 3)} +/- {round(np.std(mae), 3)}\")\n",
    "print(f\"RMSE: {round(np.sqrt(np.mean(rmse)), 3)} +/- {round(np.std(rmse), 3)}\")"
   ]
  },
  {
   "cell_type": "markdown",
   "id": "5fa03a37-cd08-43d3-b19c-35d15510e90a",
   "metadata": {},
   "source": [
    "## Random Forest"
   ]
  },
  {
   "cell_type": "markdown",
   "id": "aef51fdb-51a9-44c5-8b71-cac237ec38ef",
   "metadata": {},
   "source": [
    "### Background"
   ]
  },
  {
   "cell_type": "markdown",
   "id": "ef3ffb26-a860-4930-bfa8-f1987c82aace",
   "metadata": {},
   "source": [
    "#### Random forest"
   ]
  },
  {
   "cell_type": "markdown",
   "id": "513bdb6b-8343-4384-9d9a-95eccb8750b7",
   "metadata": {},
   "source": [
    "**1) Properties**\n",
    "\n",
    "* A non-linear model\n",
    "\n",
    "* Makes a prediction using a collection of decision trees\n",
    "\n",
    "* Advantages:\n",
    "\n",
    "    1. Higher accuracy (lower variance) than individual decision tree\n",
    "    \n",
    "    2. Generalisation error can be estimated using the data left out of the bootstrapped training set for each tree (AKA out-of-bag estimates)\n",
    "    \n",
    "    3. Feature importance can be compared by ranking their mean decrease in variance/Gini impurity/entropy across all trees\n",
    "\n",
    "* Disadvantages:\n",
    "    1. Sacrifice some explainability"
   ]
  },
  {
   "cell_type": "markdown",
   "id": "70625967-6f5c-4d7b-8f69-651a26bb60fc",
   "metadata": {},
   "source": [
    "-----------------"
   ]
  },
  {
   "cell_type": "markdown",
   "id": "b7c1cef4-dc48-4124-9d1f-e96eae09bbfc",
   "metadata": {},
   "source": [
    "**2) Assumptions**\n",
    "\n",
    "* Non-parametric\n",
    "\n",
    "* No transformation or scaling of predictive features is required\n",
    "\n",
    "    *any monotonic transformation wont affect ranks in the features*"
   ]
  },
  {
   "cell_type": "markdown",
   "id": "1b303caa-eb56-4c42-a017-e09e91f6f579",
   "metadata": {},
   "source": [
    "-----------------"
   ]
  },
  {
   "cell_type": "markdown",
   "id": "c0e87ba8-fa3a-4419-b85b-9b20f1bc5820",
   "metadata": {},
   "source": [
    "**3) Implementation**\n",
    "\n",
    "**_Splitting criterion_**\n",
    "\n",
    "* The choice of split values is based on minimizing target variable variance:\n",
    "\n",
    "    $Var(Y) = E[(Y-\\mu)^2]$\n",
    "\n",
    "* The total node variance is a weighted sum of the variances of the child nodes\n",
    "\n",
    "**_Algorithm_**\n",
    "\n",
    "1. Initialise $M$ decision trees to be fit.\n",
    "\n",
    "2. Take a bootstrap resample (w. replacement) from the training data\n",
    "   \n",
    "3. Randomly sample $p$ variables ($p=\\sqrt{P}$) (without replacement)\n",
    "\n",
    "4. For each variable:\n",
    "\n",
    "    - Iterate over all values, splitting the training data into two subpartitions\n",
    "\n",
    "    - Select the split value that maximises subpartition homogeneity\n",
    "\n",
    "5. Select the variable (& corresponding split value) that maximises subpartition homogeneity\n",
    "\n",
    "6. Repeat steps $2-4$ for subsequent subpartitions\n",
    "\n",
    "7. Terminate when no further partition can sufficiently improve homogeneity\n",
    "\n",
    "8. Increment the model counter $m$ by one. If $m\\leq M$, repeat.\n",
    "\n",
    "**_Making predictions_**\n",
    "\n",
    "* For classification problems, majority voting is used to decide class.\n",
    "\n",
    "* For regression problems, the bagged estimate is given by: \n",
    "\n",
    "    $\\hat{f}(X)=\\frac{1}{M} (\\hat{f}_2(X) + \\hat{f}_2(X)+...+ \\hat{f}_M(X))$\n",
    "\n",
    "  *Where M is the number of decision trees*"
   ]
  },
  {
   "cell_type": "markdown",
   "id": "cff5a362-d36f-4e2a-b0bd-cc9943bb6b0d",
   "metadata": {},
   "source": [
    "-----------------"
   ]
  },
  {
   "cell_type": "markdown",
   "id": "e600e3fe-c630-4d90-8029-e242319d4ebc",
   "metadata": {},
   "source": [
    "**4) Interpretation**\n",
    "\n",
    "**_Out-of-bag estimates_**\n",
    "\n",
    "* Collected during training\n",
    "\n",
    "* Enable assessment of generalisation error\n",
    "\n",
    "* *How?*\n",
    "\n",
    "    - Predictions are made for the samples not included in the bootstrap sample ($\\sim 1/3$)\n",
    "\n",
    "      *For regression problems, predictions are averaged. While for classification, a majority vote is used.*\n",
    " \n",
    "    - An OOB score is then calculated\n",
    "\n",
    "**_Feature importance_**\n",
    "\n",
    "* Assessed during training\n",
    "\n",
    "* How?\n",
    "\n",
    "    - Cumulatively track the total reduction in impurity/variance due to a feature across all trees\n",
    " \n",
    "    - After all trees are built, the cumulative scores are normalized so they sum to $1$\n",
    " \n",
    "    - The normalised scores indicate the relative importance of each feature"
   ]
  },
  {
   "cell_type": "markdown",
   "id": "979e8859-a0b4-4b54-be23-4dc6994d8192",
   "metadata": {},
   "source": [
    "------------------"
   ]
  },
  {
   "cell_type": "markdown",
   "id": "d9dbdc6b-4604-4386-a76a-25ccdff5857f",
   "metadata": {},
   "source": [
    "**5) Overfitting**\n",
    "\n",
    "* Overfitting is where a model learns the training data too well capturing noise. It leads to poor generalisation.\n",
    "\n",
    "**_Random forest algorithm_**\n",
    "\n",
    "* Addresses overfitting by introducing randomness & averaging predictions:\n",
    "\n",
    "    1. Each tree is trained using a different version of the training data\n",
    "      \n",
    "    2. Each node considers a random subset of variables\n",
    " \n",
    "    3. The final prediction is obtained by averaging the predictions\n",
    " \n",
    "       *reduces the impact of outliers or noise that may be captured by individual trees.*\n",
    "\n",
    "**_Hyperparameter optimisation_**\n",
    "\n",
    "1. min samples leaf -- minimum size for terminal nodes (leaves in the tree)\n",
    "   \n",
    "2. max leaf nodes -- linked to the maximum number of nodes in each decision tree via:\n",
    "   \n",
    "    $\\text{max nodes} = 2 (\\text{max leaf nodes})-1$\n",
    "\n",
    "**_Dataset size_**\n",
    "\n",
    "* A larger dataset provides more diverse examples\n",
    "  \n",
    "* Models are likely to capture patterns that are more consistent and less sensitive to noise or outliers"
   ]
  },
  {
   "cell_type": "markdown",
   "id": "8afd74d7-4c48-4d75-a3a9-1758d7380681",
   "metadata": {},
   "source": [
    "--------------------------"
   ]
  },
  {
   "cell_type": "markdown",
   "id": "45688b54-6039-4926-96cc-7b2e335e3eb4",
   "metadata": {},
   "source": [
    "#### Assessing overfitting\n",
    "\n",
    "* 5-fold cross validation is used to assess overfitting as a function of dataset size\n",
    "\n",
    "**_Confidence intervals_**\n",
    "\n",
    "    \"Confidence intervals define the interval which has a 0.95 probability of containing the true parameter\"\n",
    "\n",
    "    \"the long run proportion of sample confidence intervals which will contain a true parameter\"\n",
    "\n",
    "* Random forest outputs a point estimate of MSE\n",
    "\n",
    "* This will vary from sample-to-sample\n",
    "\n",
    "* The confidence interval quantifies the uncertainty\n",
    "\n",
    "**_1. Bootstrap estimate_**\n",
    "\n",
    "* Estimate sampling distribution by bootstrapping (sampling w. replacement) & fitting multiple times\n",
    "\n",
    "* Confidence interval encloses the relevant % of the sampling distribution\n",
    "\n",
    "**_2. t-score_**\n",
    "\n",
    "* Compute MSE\n",
    "\n",
    "    $MSE = \\sum_{i=1}^n\\bigl(y_i - \\hat{y_i}\\bigr)^2$\n",
    "\n",
    "* Determine dof for t-distribution\n",
    "\n",
    "  $df_{residual} = n - df_{model} = n- p - 1$\n",
    "\n",
    "    *Model parameters are estimates and therefore introduce constraints on variability of residuals*\n",
    "\n",
    "* Choose a confidence level\n",
    "\n",
    "* Estimate the standard error\n",
    "\n",
    "    $SE = \\frac{s}{\\sqrt{n}}$\n",
    "\n",
    "    *Use the standard deviation of the squared residuals*\n",
    "\n",
    "* Compute critical t statistic value for the given confidence level\n",
    "\n",
    "  *This will depend on the degrees of freedom*\n",
    " \n",
    "* Compute margin of error\n",
    "\n",
    "  $Margin = S.E \\times t_{critical}$\n",
    "\n",
    "* Construct confidence interval\n",
    "\n",
    "    $CI = MSE \\pm margin$"
   ]
  },
  {
   "cell_type": "markdown",
   "id": "e1236a58-b012-4be6-b2d2-c3e1681b333a",
   "metadata": {},
   "source": [
    "---------------------"
   ]
  },
  {
   "cell_type": "markdown",
   "id": "9f66b5c3-4298-45da-9125-a715c3e9771a",
   "metadata": {},
   "source": [
    "### Feature preprocessing\n",
    "* Random forests can capture more complex relationships. Consequently, the interaction terms used earlier are dropped.\n",
    "  \n",
    "  Note: Min-max scaling is still conducted (although random forests are more robust than ridge regression in this regard)."
   ]
  },
  {
   "cell_type": "code",
   "execution_count": 15,
   "id": "568c3228-ea58-44bb-8081-bb1d63b09a7f",
   "metadata": {},
   "outputs": [],
   "source": [
    "def preprocess_rf_features(df):\n",
    "    \"\"\"\n",
    "    Remove selected features and apply required feature engineering steps.\n",
    "    \"\"\"\n",
    "    # Drop selected features\n",
    "    df = df.drop(['net_salary', 'observed_income', 'other_income', 'cust_unique_id', 'gambling_spend'], axis=1)\n",
    "\n",
    "    # Divide predictive features from target\n",
    "    y_train = df['annual_net_savings_lbg']\n",
    "    X_train = df.drop(['annual_net_savings_lbg'], axis=1)\n",
    "\n",
    "    return X_train, y_train"
   ]
  },
  {
   "cell_type": "code",
   "execution_count": 16,
   "id": "639c0734-b3df-41cf-801d-b2be1e0d1825",
   "metadata": {},
   "outputs": [],
   "source": [
    "# Preprocess features\n",
    "X_train, y_train = preprocess_rf_features(clean_train_df)"
   ]
  },
  {
   "cell_type": "markdown",
   "id": "1b532128-52a6-4c06-bdab-8be476f1377d",
   "metadata": {},
   "source": [
    "### Pipeline"
   ]
  },
  {
   "cell_type": "code",
   "execution_count": 17,
   "id": "d842544d-fabf-46d0-b88c-adac24826d0f",
   "metadata": {},
   "outputs": [],
   "source": [
    "# Create random forest regression pipeline\n",
    "categorical_features = X_train.select_dtypes('object').columns\n",
    "continuous_features = X_train.select_dtypes('number').columns\n",
    "\n",
    "rf_preprocessor = ColumnTransformer(\n",
    "    transformers=[('scaler', MinMaxScaler(), continuous_features),\n",
    "                  ('onehot', OneHotEncoder(handle_unknown='ignore'), categorical_features)],\n",
    "    remainder='passthrough'\n",
    ")\n",
    "rf_pipeline = Pipeline([\n",
    "    ('preprocessor', rf_preprocessor),\n",
    "    ('rf',RandomForestRegressor(random_state=42))]\n",
    "                   )"
   ]
  },
  {
   "cell_type": "markdown",
   "id": "e6b869ef-f145-4cb9-aaba-04fe30220c6f",
   "metadata": {},
   "source": [
    "### Hyperparameter optimisation"
   ]
  },
  {
   "cell_type": "markdown",
   "id": "e11a30b2-992f-4d0f-adbd-323974aef75d",
   "metadata": {},
   "source": [
    "**1) Optimise min_samples_leaf & max_leaf_nodes**\n",
    "\n",
    "* A five-fold cross validation gridsearch is used to optimise the complexity of constituent decision trees."
   ]
  },
  {
   "cell_type": "code",
   "execution_count": 18,
   "id": "ae3bcb1a-e2db-4e0b-aacf-a9a356a74a29",
   "metadata": {},
   "outputs": [
    {
     "name": "stdout",
     "output_type": "stream",
     "text": [
      "-3443689.87497845\n",
      "{'rf__max_leaf_nodes': 150, 'rf__min_samples_leaf': 10, 'rf__n_estimators': 50}\n"
     ]
    }
   ],
   "source": [
    "# Cross-validated grid search\n",
    "rf_param_grid = {\n",
    "    'rf__n_estimators': [50],\n",
    "    'rf__min_samples_leaf': [5, 10, 25], # minimum size of terminal nodes\n",
    "    'rf__max_leaf_nodes': [100, 150, 200], # proportional to maximum number of terminal nodes\n",
    "}\n",
    "rf_grid_search = GridSearchCV(\n",
    "    rf_pipeline, rf_param_grid, cv=5, scoring='neg_mean_squared_error'\n",
    ")\n",
    "rf_grid_search.fit(\n",
    "    X_train, y_train\n",
    ")\n",
    "\n",
    "# Access the best model's attributes\n",
    "best_rf_model = rf_grid_search.best_estimator_\n",
    "best_rf_params = rf_grid_search.best_params_\n",
    "best_rf_score = rf_grid_search.best_score_\n",
    "print(best_rf_score)\n",
    "print(best_rf_params)"
   ]
  },
  {
   "cell_type": "markdown",
   "id": "e4ea942c-d0d7-4df2-9fb1-b8b9ce127cad",
   "metadata": {},
   "source": [
    "**2) Optimise no. of estimators**\n",
    "\n",
    "* Variance should decrease as the number of trees is increased. Consequently, the optimum number of decision trees was decided by monitoring changes in out-of-bag score."
   ]
  },
  {
   "cell_type": "code",
   "execution_count": 19,
   "id": "5f424a23-1ea4-479b-aef6-02e7f2bae6ad",
   "metadata": {},
   "outputs": [
    {
     "data": {
      "image/png": "[encoded data removed]",
      "text/plain": [
       "<Figure size 320x240 with 1 Axes>"
      ]
     },
     "metadata": {},
     "output_type": "display_data"
    }
   ],
   "source": [
    "oob_scores = []\n",
    "n_estimators = list(range(50, 300, 50))\n",
    "\n",
    "for n in n_estimators:\n",
    "    rf_pipeline = Pipeline(\n",
    "        [('preprocessor', rf_preprocessor),\n",
    "         ('rf', RandomForestRegressor(n_estimators=n, max_leaf_nodes=30, min_samples_leaf=100, oob_score=True, random_state=42))]\n",
    "    )\n",
    "    rf_pipeline.fit(X_train, y_train)\n",
    "    oob_scores.append(\n",
    "        rf_pipeline.named_steps['rf'].oob_score_\n",
    "    )\n",
    "\n",
    "# Plot oob_scores vs. number of trees\n",
    "fig, axes = plt.subplots(\n",
    "    nrows=1, ncols=1, figsize=(6.4/2, 4.8/2)\n",
    ")\n",
    "axes.scatter(\n",
    "    n_estimators, oob_scores, color='dimgray', label='Pred'\n",
    ")\n",
    "axes.set_ylabel('OOB R-squared', fontsize=10, color='dimgray')\n",
    "axes.set_xlabel('n estimators', fontsize=10, color='dimgray')\n",
    "axes.tick_params(bottom=False, left=False)\n",
    "axes.grid(False)\n",
    "axes.spines[['top', 'right']].set_visible(False)\n",
    "axes.spines[['left', 'bottom']].set_color('dimgray')"
   ]
  },
  {
   "cell_type": "markdown",
   "id": "2f6e273e-b1b9-4428-a888-84d3050c0495",
   "metadata": {},
   "source": [
    "### Evaluation"
   ]
  },
  {
   "cell_type": "markdown",
   "id": "7a7a6e17-aa61-4c12-afef-409a319cf575",
   "metadata": {},
   "source": [
    "**Learning curve**\n",
    "* A learning curve is plotted for the optimal model. This reveals no substantial overfitting."
   ]
  },
  {
   "cell_type": "code",
   "execution_count": 20,
   "id": "38342e38-c53a-40d8-9adc-84a757091055",
   "metadata": {},
   "outputs": [],
   "source": [
    "# Update pipeline\n",
    "rf_pipeline = Pipeline([\n",
    "    ('preprocessor', rf_preprocessor),\n",
    "    ('rf', RandomForestRegressor(n_estimators=150, max_leaf_nodes=30, min_samples_leaf=100, oob_score=True, random_state=42))]\n",
    ")\n",
    "\n",
    "# Create a learning curve\n",
    "train_sizes, train_scores, valid_scores = learning_curve(\n",
    "    rf_pipeline, X_train, y_train, train_sizes=[0.1, 0.25, 0.5, 0.75, 1.0], cv=5, scoring='neg_mean_squared_error', random_state=42\n",
    ")\n",
    "\n",
    "# Calculate score means and standard deviations\n",
    "train_scores_mean = -np.mean(train_scores, axis=1)\n",
    "train_scores_std = np.std(train_scores, axis=1)\n",
    "valid_scores_mean = -np.mean(valid_scores, axis=1)\n",
    "valid_scores_std = np.std(valid_scores, axis=1)"
   ]
  },
  {
   "cell_type": "code",
   "execution_count": 21,
   "id": "0830a310-500e-46bb-954b-807b0c9eeb81",
   "metadata": {},
   "outputs": [
    {
     "data": {
      "image/png": "[encoded data removed]",
      "text/plain": [
       "<Figure size 640x480 with 1 Axes>"
      ]
     },
     "metadata": {},
     "output_type": "display_data"
    }
   ],
   "source": [
    "# Plot the learning curve with confidence intervals\n",
    "fig, axes = plt.subplots(\n",
    "    figsize=(6.4, 4.8)\n",
    ")\n",
    "axes.tick_params(bottom=False, left=False)\n",
    "axes.grid(False)\n",
    "axes.spines[['top', 'right']].set_visible(False)\n",
    "axes.spines[['left', 'bottom']].set_color('dimgray')\n",
    "\n",
    "axes.plot(train_sizes, train_scores_mean, label='Training Set', marker='o')\n",
    "axes.fill_between(train_sizes, train_scores_mean - train_scores_std, train_scores_mean + train_scores_std, alpha=0.1)\n",
    "axes.plot(train_sizes, valid_scores_mean, label='Validation Set', marker='o')\n",
    "axes.fill_between(train_sizes, valid_scores_mean - valid_scores_std, valid_scores_mean + valid_scores_std, alpha=0.1)\n",
    "axes.set_xlabel('Training Set Size', fontsize=10, color='dimgray')\n",
    "axes.set_ylabel('Mean Squared Error', fontsize=10, color='dimgray')\n",
    "axes.legend();"
   ]
  },
  {
   "cell_type": "markdown",
   "id": "ea33e484-c9a5-4c4f-a87b-50d2d075d70e",
   "metadata": {},
   "source": [
    "**Predictive performance**\n",
    "* The stability of the optimal model is assessed using 5-fold cross validation. No significant deviations in R-squared or the normality of residuals is observed between folds."
   ]
  },
  {
   "cell_type": "code",
   "execution_count": 22,
   "id": "3cf10145-814b-4d9e-8bf5-1bd309e6515d",
   "metadata": {},
   "outputs": [
    {
     "name": "stdout",
     "output_type": "stream",
     "text": [
      "R^2: 0.911 +/- 0.002\n",
      "MAE: 1551.046 +/- 11.678\n",
      "RMSE: 1954.19 +/- 75186.545\n"
     ]
    },
    {
     "data": {
      "image/png": "[encoded data removed]",
      "text/plain": [
       "<Figure size 1280x240 with 5 Axes>"
      ]
     },
     "metadata": {},
     "output_type": "display_data"
    }
   ],
   "source": [
    "fig, axes = plt.subplots(nrows=1, ncols=5, constrained_layout=True, figsize=(6.4*2, 4.8/2))\n",
    "cv = KFold(n_splits=5, shuffle=True, random_state=42)\n",
    "\n",
    "r2, mae, rmse = [], [], []\n",
    "\n",
    "for i, (train_index, test_index) in enumerate(cv.split(X_train, y_train)):\n",
    "    X_train_k, y_train_k = X_train.iloc[train_index], y_train.iloc[train_index]\n",
    "    X_test_k, y_test_k = X_train.iloc[test_index], y_train.iloc[test_index]\n",
    "\n",
    "    rf_pipeline.fit(X_train_k, y_train_k)\n",
    "    y_pred_k = rf_pipeline.predict(X_test_k)\n",
    "\n",
    "    r2.append(r2_score(y_test_k, y_pred_k))\n",
    "    mae.append(mean_absolute_error(y_test_k, y_pred_k))\n",
    "    rmse.append(mean_squared_error(y_test_k, y_pred_k))\n",
    "\n",
    "    residuals = y_test_k - y_pred_k\n",
    "    standardised_residuals = residuals / np.std(residuals)\n",
    "\n",
    "    sm.qqplot(\n",
    "        standardised_residuals, line='45', ax=axes[i]\n",
    "    )\n",
    "    axes[i].set_xlabel('Theoretical quantiles', fontsize=10, color='dimgray')\n",
    "    axes[i].set_ylabel('Sample quantiles', fontsize=10, color='dimgray');\n",
    "\n",
    "for ax in axes:\n",
    "    ax.tick_params(bottom=False, left=False)\n",
    "    ax.grid(False)\n",
    "    ax.spines[['top', 'right']].set_visible(False)\n",
    "    ax.spines[['left', 'bottom']].set_color('dimgray')\n",
    "\n",
    "print(f\"R^2: {round(np.mean(r2), 3)} +/- {round(np.std(r2), 3)}\")\n",
    "print(f\"MAE: {round(np.mean(mae), 3)} +/- {round(np.std(mae), 3)}\")\n",
    "print(f\"RMSE: {round(np.sqrt(np.mean(rmse)), 3)} +/- {round(np.std(rmse), 3)}\")"
   ]
  },
  {
   "cell_type": "markdown",
   "id": "5f69c4af-71ca-4a4f-8624-392516a2378c",
   "metadata": {},
   "source": [
    "## Final model"
   ]
  },
  {
   "cell_type": "markdown",
   "id": "cf4138b4-0ba2-4467-aef2-07e8a1f0242f",
   "metadata": {},
   "source": [
    "### Background"
   ]
  },
  {
   "cell_type": "markdown",
   "id": "140eecdf-ea9a-44d1-8924-830465985461",
   "metadata": {},
   "source": [
    "#### Goodness of fit\n",
    "\n",
    "**_1. Pre-requisites_**\n",
    "    \n",
    "$RSS = \\sum_{i=1}^n (y_i - \\hat{y})^2$ *-> quantifies unexplained variability*\n",
    "\n",
    "$TSS = \\sum_{i=1}^n (y_i - \\bar{y})^2$ *-> quantifies variability in dependent variable*\n",
    "\n",
    "**_2. R-squared_**\n",
    "\n",
    "$R^2 = 1 - \\frac{RSS}{TSS}$\n",
    "\n",
    "* $R^2=0$ *-> model predicts $\\bar{y}$*\n",
    "\n",
    "* $R^2=1$ *-> model predicts observed values*\n",
    "\n",
    "* $R^2=0.5$ *-> 50% of variability captured*\n",
    "   \n",
    "**_3. Adjusted R-squared_**\n",
    "   \n",
    "* $R^2$ increases when you add extra explanatory variables because $RSS$ decreases when the model has more flexibility.\n",
    "\n",
    "* Penalises unnecessary variables in the model   \n",
    "\n",
    "    $R^2_{adjusted} = 1 - \\frac{RSS/df_{res}}{TSS/df_{model}}$\n",
    "\n",
    "**_4. Mean absolute error_**\n",
    "\n",
    "* The average of the absolute differences between the predicted and actual values\n",
    "\n",
    "    $MAE = \\frac{1}{n} \\sum_{i=1}^n |y_i - \\hat{y_i}|$\n",
    "\n",
    "* It is less sensitive to outliers compared to MSE, making it a robust metric for assessing prediction accuracy.\n",
    "\n",
    "**_5. Mean square error_**\n",
    "\n",
    "* The average of the squared differences between the predicted and actual values\n",
    "\n",
    "    $MSE = \\frac 1n\\sum_{i=1}^n(y_i-\\hat{y}_i)^2$\n",
    "\n",
    "* It punishes larger errors, which tends to be useful in the real world\n",
    "\n",
    "**_6. Root Mean Square Error_**\n",
    "\n",
    "* The square root of the MSE\n",
    "\n",
    "    $RMSE = \\sqrt{\\frac{\\sum_{i=1}^{n} (y_i - \\hat{y}_i)^2}{n}}$\n",
    "\n",
    "* It is interpretable in the \"y\" units."
   ]
  },
  {
   "cell_type": "markdown",
   "id": "9b91404e-3198-4b06-93ce-f8948a0ad6c3",
   "metadata": {},
   "source": [
    "---------------"
   ]
  },
  {
   "cell_type": "markdown",
   "id": "eb3a4536-f990-4eb9-b9f7-643cee17c116",
   "metadata": {},
   "source": [
    "### Model choice"
   ]
  },
  {
   "cell_type": "markdown",
   "id": "a5cc5e38-c433-495d-a4b7-7001c2c9da51",
   "metadata": {},
   "source": [
    "The below table shows 5-fold cross validated performance with the training set for both the ridge and random forest models. The ridge regression model performs better than the random forest across all metrics.\n",
    "\n",
    "|Model|Metric|Mean +/- Standard Deviation|\n",
    "|---|---|---|\n",
    "|Ridge|R-squared|0.923 +/- 0.002|\n",
    "|Ridge|MAE|1456.088 +/- 16.216|\n",
    "|Ridge|MSE|1827.083 +/- 71606.961|\n",
    "|Random Forest|R-squared|0.911 +/- 0.002|\n",
    "|Random Forest|MAE|1551.046 +/- 11.678|\n",
    "|Random Forest|MSE|1954.19 +/- 75186.545|"
   ]
  },
  {
   "cell_type": "markdown",
   "id": "0469a665-30f7-4a54-a4de-e0602bcdc6c4",
   "metadata": {},
   "source": [
    "### Evaluation\n",
    "* The ridge regression model is retrained using the entire training set. Predictive performance is then assesed using the test set.\n",
    "  \n",
    "* The goodness of fit and predictive performance are good. Furthermore, the residuals remain normally distributed suggesting the coefficients can be interpreted."
   ]
  },
  {
   "cell_type": "code",
   "execution_count": 23,
   "id": "807352bc-1b2d-4aa9-a578-13798b23289c",
   "metadata": {},
   "outputs": [],
   "source": [
    "# Preprocess features\n",
    "X_train, y_train = preprocess_ridge_features(clean_train_df)\n",
    "X_test, y_test = preprocess_ridge_features(clean_test_df)"
   ]
  },
  {
   "cell_type": "code",
   "execution_count": 24,
   "id": "6c76355c-1180-41b9-98ad-f46c031fe4bb",
   "metadata": {},
   "outputs": [],
   "source": [
    "# Drop features with insignificant p-values in OLS\n",
    "features_to_drop = ['childcare_spend', 'observed_surplus', 'age_dummy_1', 'savings_bal_dummy', 'zero_childcare_spend',\n",
    "                    'gender_F', 'gender_M', 'gender_Other', 'geo_region_North', 'geo_region_Scotland', 'geo_region_Southeast',\n",
    "                    'geo_region_Southwest', 'geo_region_Wales', 'ethnicity_group_Other', 'ethnicity_group_White British',\n",
    "                    'ethnicity_group_White Other']\n",
    "X_train = X_train.drop(features_to_drop, axis=1)\n",
    "X_test = X_test.drop(features_to_drop, axis=1)"
   ]
  },
  {
   "cell_type": "code",
   "execution_count": 25,
   "id": "4f6d45e0-d56d-445e-a22f-599be3a643c4",
   "metadata": {},
   "outputs": [],
   "source": [
    "# Pipeline\n",
    "categorical_features = X_train.select_dtypes('object').columns\n",
    "continuous_features = X_train.select_dtypes('number').columns\n",
    "\n",
    "ridge_preprocessor = ColumnTransformer(\n",
    "    transformers=[('scaler', MinMaxScaler(), continuous_features),\n",
    "                  ('onehot', OneHotEncoder(handle_unknown='ignore'), categorical_features)],\n",
    "    remainder='passthrough'\n",
    ")\n",
    "\n",
    "ridge_pipeline = Pipeline([\n",
    "    ('preprocessor', ridge_preprocessor),\n",
    "    ('ridge', Ridge(max_iter=10000, alpha=0.01, random_state=42))]\n",
    ")"
   ]
  },
  {
   "cell_type": "code",
   "execution_count": 26,
   "id": "3abbac98-cf7a-4412-926e-e414c2a07598",
   "metadata": {},
   "outputs": [
    {
     "name": "stdout",
     "output_type": "stream",
     "text": [
      "R^2: 0.920086026151763\n",
      "MAE: 1471.65909742208\n",
      "RMSE: 3396536.8245099336\n"
     ]
    }
   ],
   "source": [
    "# Refit with training data\n",
    "ridge_pipeline.fit(X_train, y_train)\n",
    "\n",
    "# Predict with test set\n",
    "y_pred = ridge_pipeline.predict(X_test)\n",
    "residuals = y_test - y_pred\n",
    "standardised_residuals = residuals / np.std(residuals)\n",
    "\n",
    "print(f\"R^2: {r2_score(y_test, y_pred)}\")\n",
    "print(f\"MAE: {mean_absolute_error(y_test, y_pred)}\")\n",
    "print(f\"RMSE: {mean_squared_error(y_test, y_pred)}\")"
   ]
  },
  {
   "cell_type": "code",
   "execution_count": 27,
   "id": "ec2522a6-e582-4fca-a927-8c256a908eda",
   "metadata": {},
   "outputs": [
    {
     "data": {
      "image/png": "[encoded data removed]",
      "text/plain": [
       "<Figure size 426.667x320 with 1 Axes>"
      ]
     },
     "metadata": {},
     "output_type": "display_data"
    }
   ],
   "source": [
    "# Prediction diagnostics\n",
    "fig, axes = plt.subplots(\n",
    "    nrows=1, ncols=1, constrained_layout=True, figsize=(6.4/1.5, 4.8/1.5)\n",
    ")\n",
    "axes.tick_params(bottom=False, left=False)\n",
    "axes.grid(False)\n",
    "axes.spines[['top', 'right']].set_visible(False)\n",
    "axes.spines[['left', 'bottom']].set_color('dimgray')\n",
    "\n",
    "axes.scatter(\n",
    "    y_test, y_pred, color='dimgray', alpha=0.1\n",
    ")\n",
    "axes.plot(\n",
    "    y_test, y_test, color='red', label='Pred y = Actual y'\n",
    ")\n",
    "axes.set_xlabel('Actual annual savings', fontsize=10, color='dimgray')\n",
    "axes.set_ylabel('Predicted annual savings', fontsize=10, color='dimgray')\n",
    "axes.legend();"
   ]
  },
  {
   "cell_type": "code",
   "execution_count": 28,
   "id": "9d45c00c-a5e0-4485-8e7a-1f7b49d86a0f",
   "metadata": {},
   "outputs": [
    {
     "data": {
      "image/png": "[encoded data removed]",
      "text/plain": [
       "<Figure size 960x320 with 3 Axes>"
      ]
     },
     "metadata": {},
     "output_type": "display_data"
    }
   ],
   "source": [
    "# Residual diagnostics\n",
    "fig, axes = plt.subplots(\n",
    "    nrows=1, ncols=3, constrained_layout=True, figsize=(6.4*1.5, 4.8/1.5)\n",
    ")\n",
    "axes = axes.flatten()\n",
    "\n",
    "# Plot standardised residuals vs. observed values\n",
    "sns.regplot(\n",
    "    x=y_test, y=standardised_residuals, line_kws={'color': 'red', 'alpha': 0.75}, scatter_kws={'color': 'dimgray', 'alpha': 0.05}, ax=axes[0]\n",
    ")\n",
    "axes[0].set_xlabel('Actual annual savings', fontsize=10, color='dimgray')\n",
    "axes[0].set_ylabel('Standardised residual', fontsize=10, color='dimgray')\n",
    "\n",
    "# Plot histogram for standardised residuals\n",
    "axes[1].hist(\n",
    "    standardised_residuals, color='dimgray', alpha=0.8, edgecolor=\"white\"\n",
    ")\n",
    "axes[1].set_xlabel('Standardised residual', fontsize=10, color='dimgray')\n",
    "axes[1].set_ylabel('Count', fontsize=10, color='dimgray')\n",
    "\n",
    "# Plot q-q plot for standardised residuals\n",
    "sm.qqplot(\n",
    "    standardised_residuals, line='45', ax=axes[2]\n",
    ")\n",
    "axes[2].set_xlabel('Theoretical quantiles', fontsize=10, color='dimgray')\n",
    "axes[2].set_ylabel('Sample quantiles', fontsize=10, color='dimgray');\n",
    "\n",
    "for ax in axes:\n",
    "    ax.tick_params(bottom=False, left=False)\n",
    "    ax.grid(False)\n",
    "    ax.spines[['top', 'right']].set_visible(False)\n",
    "    ax.spines[['left', 'bottom']].set_color('dimgray')"
   ]
  },
  {
   "cell_type": "markdown",
   "id": "50e5ae81-313c-453d-bc02-441899b002b3",
   "metadata": {},
   "source": [
    "---------------------------"
   ]
  },
  {
   "cell_type": "markdown",
   "id": "c42bddf5-f7f0-4ff1-a81b-5ccf3e642a6b",
   "metadata": {},
   "source": [
    "# Ethics"
   ]
  },
  {
   "cell_type": "markdown",
   "id": "bb424c94-42dc-42e7-be85-6ab177bb6fbd",
   "metadata": {},
   "source": [
    "**Key questions:**\n",
    "\n",
    "* Are there any ethical concerns with using any of the predictor variables in the dataset? Which variables, and why?\n",
    "\n",
    "* Would you change the model to address these concerns? Does this change have a cost in terms of model performance?\n",
    "  \n",
    "* How would you balance performance against ethics?\n",
    "  \n",
    "* Which model would you finally decide to use to predict customer savings rates, and why?\n",
    "  \n",
    "* Is there anything else ethically questionable about the data?"
   ]
  },
  {
   "cell_type": "markdown",
   "id": "827e96ba-5f4f-447a-a106-ad660c00ec0b",
   "metadata": {},
   "source": [
    "## Background"
   ]
  },
  {
   "cell_type": "markdown",
   "id": "bda6b42d-04ce-4184-8d47-e00f54b9d57f",
   "metadata": {},
   "source": [
    "### PCA"
   ]
  },
  {
   "cell_type": "markdown",
   "id": "8637cfc7-358c-4959-a5ec-5b57e583d209",
   "metadata": {},
   "source": [
    "**1) Basic principle**\n",
    "\n",
    "1. Factorising the covariance matrix gives eigenvectors\n",
    "\n",
    "2. Eigenvectors are directions in the feature space along which data varies\n",
    "\n",
    "3. A principal components is formed by projecting data points onto an eigenvector\n",
    "\n",
    "4. Eigenvalues are proportional to the variance of data along a principal component\n",
    "\n",
    "5. By only using a subset of the principal components, dimensionality is reduced\n",
    "\n",
    "    *Principal components are independent as eigen vectors are orthogonal*"
   ]
  },
  {
   "cell_type": "markdown",
   "id": "5f8393d2-dd40-4246-a81e-64573d5ec065",
   "metadata": {},
   "source": [
    "---------------"
   ]
  },
  {
   "cell_type": "markdown",
   "id": "104e5d60-1599-4db1-bd66-46888780551e",
   "metadata": {},
   "source": [
    "**2) Implementation**\n",
    "\n",
    "**_1. Z-score standardise data_**\n",
    "\n",
    "* PCA can be sensitive to scale & variance of features\n",
    "\n",
    "**_2. Compute covariance matrix_**\n",
    "\n",
    "$C=X^TX$\n",
    "\n",
    "*Where $C$ is the $p\\times p$ covariance matrix, $X^T$ is the $p \\times n$ transpose of the design matrix $X$ (itself $n \\times p$)*\n",
    "\n",
    "**_3. Factorise covariance matrix using SVD_**\n",
    "\n",
    "$C = U\\Sigma V^T$\n",
    "\n",
    "*Where each column in $U$ is an eigenvector with $p$ elements and $\\Sigma$ is a diagnol matrix containing corresponding singular values*\n",
    "\n",
    "**_4. Normalise the eigenvectors_**\n",
    "\n",
    "$U_{i_{norm}}= \\frac{U_i}{||U_i||}$\n",
    "\n",
    "*Divide by the euclidian norm*\n",
    "\n",
    "**_5. Compute eigen values_**\n",
    "\n",
    "$\\lambda_i = \\sigma_i^2$\n",
    "\n",
    "*Where $\\sigma_i$ are the singular values in the diagnol matrix $\\Sigma$*\n",
    "\n",
    "**_6. Assess normalised eigen vectors_**\n",
    "\n",
    "* *Loadings* are the $p$ elements in a normalised eigenvector $U_{i_{norm}}$\n",
    "\n",
    "* They indicate the relative contribution of each feature to the $ith$ principal component\n",
    "\n",
    "* A larger loading indicates a more significant contribution\n",
    "  \n",
    "**_7. Choose $k$ principal components_**\n",
    "\n",
    "* An eigen value is proportional to the variance of data along a principal component\n",
    "\n",
    "* Calculate the proportion of variance explained by a principal component:\n",
    "\n",
    "    $\\frac{\\lambda_i}{\\sum_{i=1}^p \\lambda_i}$\n",
    "\n",
    "    *Where the denominator is the total variance along the principal components*\n",
    "\n",
    "* Sort eigenvalues in descending order\n",
    "\n",
    "* Choose $k$ principal components based on the cumulative % of variance explained\n",
    "  \n",
    "**_8. Transform new data_**\n",
    "\n",
    "* A data point is transformed onto a principal component via a dot product with the corresponding eigen vector:\n",
    "\n",
    "    $x_{Projection} = U_i^TX$\n",
    "\n",
    "  *Where $x_{Projection}$ is a scalar, $U_i$ is an eigen vector with $p$ loadings and $X$ is a vector with $p$ elements*\n",
    "\n",
    "* In matrix form:\n",
    "\n",
    "    $\\boldsymbol{X}_{Projection} = \\boldsymbol{U}^T\\boldsymbol{X}$\n",
    "\n",
    "  *Where $\\boldsymbol{X}_{Projection}$ is an $n \\times k$ matrix,  $\\boldsymbol{X}$ is an $n \\times p$ matrix and $\\boldsymbol{U}$ is a matrix containing $k$ eigen vectors with $p$ elements each*"
   ]
  },
  {
   "cell_type": "markdown",
   "id": "2a39b811-5cd6-43b8-8843-9e517e4c4a23",
   "metadata": {},
   "source": [
    "--------------------"
   ]
  },
  {
   "cell_type": "markdown",
   "id": "34f20847-d3f9-4337-9eb4-dc19d481e907",
   "metadata": {},
   "source": [
    "### Diagnosing multicollinearity"
   ]
  },
  {
   "cell_type": "markdown",
   "id": "f917b94e-3b9b-4f12-9604-a01b2e22c3b8",
   "metadata": {},
   "source": [
    "**_a) Eigen values of the covariance matrix_**\n",
    "\n",
    "*\"The smallest eigenvalue is 1.53e-16. This might indicate that there are strong multicollinearity problems or that the design matrix is singular.\"*\n",
    "\n",
    "* Each eigenvalue indicates the variance of the data along the direction of the corresponding eigenvector.\n",
    "\n",
    "* Eigenvalues close to $0$ indicate multicollinearity:\n",
    "\n",
    "**_b) Condition index_**\n",
    "\n",
    "* Used to assess multicollinearity\n",
    "\n",
    "* Utilises magnitude of variance along orthogonal eigen vectors in the feature space (as given by eigen values)\n",
    "\n",
    "    $\\text{Condition index} = \\sqrt{\\frac{\\lambda_{max}}{\\lambda_{min}}}$\n",
    "\n",
    "    *Where $\\lambda_{max}$ is the largest eigen value and $\\lambda_{min}$ is the smallest.*\n",
    "\n",
    "* Intepretation:\n",
    "\n",
    "    $\\text{Condition index} = 1:$ -> *Eigen values similar in size - no multicollinearity*\n",
    "\n",
    "    $\\text{Condition index} > 30:$ -> *Large disparity in size - multicollinearity*"
   ]
  },
  {
   "cell_type": "markdown",
   "id": "24468335-296a-4453-a94f-9d784914a2b6",
   "metadata": {},
   "source": [
    "---------------"
   ]
  },
  {
   "cell_type": "markdown",
   "id": "34469267-9be2-4036-8094-d17f74e8fcdb",
   "metadata": {},
   "source": [
    "## Summary"
   ]
  },
  {
   "cell_type": "markdown",
   "id": "f4f5b764-6878-4196-91dc-bb6b02b63b53",
   "metadata": {},
   "source": [
    "**1) Are there any ethical concerns with using any of the predictor variables in the dataset? Which variables, and why?**\n",
    "\n",
    "* As the model is trained using personal information, the development process and any decisions made using the model must comply with data protection laws. This means data privacy should be prioritised, and data processing should be transparent (with informed consent). Additionally, since some of the predictive variables are protected characteristics, obligations under the Equality Act must be considered. For instance, it may be necessary to omit protected characteristics from model training if using them may lead to discrimination. \n",
    "\n",
    "* Specific concerns are highlighted below:\n",
    "\n",
    "    1. **_Age_**\n",
    "       \n",
    "        * Variables: age, age_dummy_2, age_dummy_3, age_interaction_1 & age_interaction_2\n",
    "          \n",
    "        * Age is a protected characteristic. The risk of age-based discrimination should therefore be considered.\n",
    "          \n",
    "    2. **_Credit score & savings balance_**\n",
    "       \n",
    "        * Variables: credit_score, savings_bal_lbg & savings_bal_interaction\n",
    "          \n",
    "        * These features should be handled with care to protect individuals' financial privacy. Furthermore, care must be taken to avoid unfairly targeting financially vulnerable individuals.\n",
    "          \n",
    "    3. **_Housing spend_**\n",
    "    \n",
    "        * Variable: housing_spend\n",
    "       \n",
    "        * Analysing housing spending may raise concerns if it leads to discriminatory practices, such as denying housing opportunities based on certain spending patterns.\n",
    "          \n",
    "    5. **_Ethnicity_**\n",
    "    \n",
    "        * Variable: ethnicity_group_South Asian\n",
    "       \n",
    "        * Ethnicity is a protected characteristic. The risk of discrimination should therefore be considered."
   ]
  },
  {
   "cell_type": "markdown",
   "id": "54df98f4-131a-4c79-957b-139a13523018",
   "metadata": {},
   "source": [
    "**2) Would you change the model to address these concerns? Does this change have a cost in terms of model performance?**\n",
    "\n",
    "* Data privacy concerns could be addressed by anonymising data early in the development process using Principal Component Analysis (PCA). Unfortunately, the loss of information associated with PCA might negatively affect model performance. Furthermore, predictions may be less interpretable.\n",
    "\n",
    "* Depending on the purpose of the model, protected characteristics (and variables correlated with these features) may need to be omitted to avoid unfair discrimination. This may negatively impact model performance.\n",
    "\n",
    "* It might also be necessary to increase representation for certain groups in the training data."
   ]
  },
  {
   "cell_type": "markdown",
   "id": "1bbff525-50c0-467a-9264-f7d18989b8fa",
   "metadata": {},
   "source": [
    "**3) How would you balance performance against ethics?**\n",
    "\n",
    "* As an individual, I would stay informed about emerging ethical guidelines and best practices in the field. Before beginning model development, an effective impact assessment could then be conducted to evaluate the risks to individuals' rights under data protection and discrimination laws. The development process would also be clearly documented, with alternative approaches with fewer ethical concerns prioritised. Additionally, explainable models would be prioritised to ensure that data processing and subsequent decisions can be clearly communicated."
   ]
  },
  {
   "cell_type": "markdown",
   "id": "92eb5f3e-8a4f-4a66-a416-df1fb79ceb42",
   "metadata": {},
   "source": [
    "**4) Which model would you finally decide to use to predict customer savings rates, and why?**\n",
    "\n",
    "* In this instance, the ridge regression model is preferable from several perspectives. Firstly, it outperforms the random forest model on both R-squared and mean absolute error. Secondly, if transparency is crucial, ridge regression is more explainable than a random forest. Next, as linear regression models are less complex, they may be less prone to capturing subtle biases in the data and therefore unintended discrimination. Finally, linear regression models are computationally less intensive than random forests."
   ]
  },
  {
   "cell_type": "markdown",
   "id": "89344274-7ad1-4a07-aae6-5d1e7bd6da6a",
   "metadata": {},
   "source": [
    "**5) Is there anything else ethically questionable about the data?**\n",
    "* Given the data is at individual level, robust security measures must be in place to prevent unauthorised access and misuse. "
   ]
  }
 ],
 "metadata": {
  "kernelspec": {
   "display_name": "topic_analyses",
   "language": "python",
   "name": "topic_analyses"
  },
  "language_info": {
   "codemirror_mode": {
    "name": "ipython",
    "version": 3
   },
   "file_extension": ".py",
   "mimetype": "text/x-python",
   "name": "python",
   "nbconvert_exporter": "python",
   "pygments_lexer": "ipython3",
   "version": "3.11.5"
  }
 },
 "nbformat": 4,
 "nbformat_minor": 5
}
