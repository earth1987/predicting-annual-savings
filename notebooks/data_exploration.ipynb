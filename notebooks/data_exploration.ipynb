{
 "cells": [
  {
   "cell_type": "code",
   "execution_count": 1,
   "id": "e17730d3-fd13-4526-a2d7-56998a6f7bc5",
   "metadata": {},
   "outputs": [],
   "source": [
    "from matplotlib import pyplot as plt\n",
    "import missingno as msno \n",
    "import numpy as np\n",
    "import pandas as pd\n",
    "from scipy.stats import probplot\n",
    "import seaborn as sns\n",
    "from imblearn.pipeline import make_pipeline\n",
    "from imblearn.over_sampling import SMOTE\n",
    "from sklearn.compose import ColumnTransformer\n",
    "from sklearn.ensemble import RandomForestClassifier, RandomForestRegressor\n",
    "from sklearn.model_selection import train_test_split, StratifiedKFold, GridSearchCV\n",
    "from sklearn.metrics import f1_score, classification_report, make_scorer, precision_score, recall_score\n",
    "from sklearn.dummy import DummyClassifier\n",
    "from sklearn.preprocessing import OneHotEncoder\n",
    "from sklearn.pipeline import Pipeline"
   ]
  },
  {
   "cell_type": "markdown",
   "id": "9e0ef91d-9adb-4159-808a-411d56ad2c2f",
   "metadata": {},
   "source": [
    "--------------------"
   ]
  },
  {
   "cell_type": "markdown",
   "id": "febad0bf-a094-4632-83bc-a09d9853fba7",
   "metadata": {},
   "source": [
    "# Data exploration\n",
    "**Aim:** \"Cleanse the data and prepare it to be suitable for statistical modelling and machine learning. Comment on the steps performed and explain the rationale for them.\""
   ]
  },
  {
   "cell_type": "markdown",
   "id": "73da63c2-093f-473b-b328-07f3a6975062",
   "metadata": {},
   "source": [
    "## Summary\n",
    "\n",
    "Descriptive statistics and frequency distributions are computed for all variables during data exploration & cleansing. Key observations and actions are outlined below.\n",
    "\n",
    "1. Erroneous Data\n",
    "   \n",
    "    * No duplicate rows are identified.\n",
    "      \n",
    "    * All occurrences of 'PROMO34' in the ‘credit_score’ column are replaced with a missing value.\n",
    "  \n",
    "2. Distributions\n",
    "\n",
    "    * A relatively uniform distribution is observed for age.\n",
    "      \n",
    "    * ‘Savings_bal_lbg’ exhibits a positive skew.\n",
    "      \n",
    "    * The ‘childcare_spend’ and ‘gambling_spend’ columns contain a high proportion of zeros (94.6% and 90.8%, respectively). Omitting zero values in the ‘childcare_spend’ column reveals a symmetric distribution, while omitting zero values in the ‘gambling_spend’ column reveals a positive skew.\n",
    "      \n",
    "    * A high proportion of zeros is present in the 'annual_net_savings_lbg' feature, which displays an otherwise symmetric distribution.\n",
    "  \n",
    "3. Missing values\n",
    "\n",
    "    * Missing values are present in the ‘other_income’ (13.9%), ‘housing_spend’ (24.2%), and ‘credit_score’ (3.5%) columns. A total of 1,362 rows contain more than one missing value.\n",
    "      \n",
    "    * Random forests are trained to predict the presence of a missing value in the 'other_income' and 'housing_spend' columns using observed values in other features. This suggests these missing values are not missing completely at random. No meaningful prediction was achieved for missing 'credit_score' values; therefore, these missing values may be missing at random.\n",
    "      \n",
    "    * Missing values in the ‘other_income’ and ‘housing_income’ columns are imputed via regression using a random forest.\n",
    "      \n",
    "    * Missing values in the ‘credit_score’ column are dropped, as these missing values appear to occur completely at random, and their removal is unlikely to introduce significant bias.\n",
    "  \n",
    "4. Outliers\n",
    "\n",
    "    * Both ‘gambling_spend’ and ‘observed_surplus’ contain outliers.\n",
    "      \n",
    "    * The outlier present in the ‘observed_surplus’ column, roughly 29 standard deviations lower than the mean, is dropped. A normal quantile-quantile plot is used to assess normality, revealing a roughly normal distribution with a negative skew.\n",
    "    \n",
    "    * The outlier in the ‘gambling_spend’ column is left untouched; its influence on later modelling will be assessed. If its presence significantly affects outcomes, it may be excluded. Note that the distribution of ‘gambling_spend’ is clearly not normal, and the outlier is not excluded based on its z-score."
   ]
  },
  {
   "cell_type": "markdown",
   "id": "b5d74046-6e20-40fb-ab45-5984a9b60444",
   "metadata": {},
   "source": [
    "## Import raw data"
   ]
  },
  {
   "cell_type": "markdown",
   "id": "48426e68-e60d-40b8-92d6-2cddcf60d98c",
   "metadata": {},
   "source": [
    "|Variable|Definition|\n",
    "|---|---|\n",
    "|cust_unique_id|A unique ID generated for each customer for the purposes of this analysis, in order to preserve customer anonymity.|\n",
    "|age|The age of each customer in years at the mid-point of the year for which data was queried.|\n",
    "|gender|The self-identified gender recorded by each customer.|\n",
    "|ethnicity_group|The self-identified etnnicity group recorded by each customer.|\n",
    "|geo_region|The geographical region of the UK to which the customers recorded address and postcode correspond.|\n",
    "|net_salary|The total inflows into the customer's current account identified as consisting of salary payments, based on a separate analysis.|\n",
    "|other_income|The total inflows into the customer's current account identified as consisting of non-salary forms of income, based on a separate analysis.|\n",
    "|observed_income|The sum of net_salary and other_income.|\n",
    "|housing_spend|The total outflows from the customer's current account identified as consisting of mortgage, rent and other housing costs, based on a separate analysis.|\n",
    "|childcare_spend|The total outflows from the customer's current account identified as consisting of nursery, childminder and other childcare costs, based on a separate analysis.|\n",
    "|gambling_spend|The total outflows from the customer's current account identified as consisting of spending on gambling websites, based on a separate analysis.|\n",
    "|observed_surplus|The total of observed income minus the total of observed costs.|\n",
    "|credit_score|The credit score assigned to the customer by an internal bank credit scoring process.|\n",
    "|savings_bal_lbg|The total balance of savings held by the customer with Lloyds Banking Group entities as of the start of the year for which data was queried.|\n",
    "|annual_net_savings_lbg|The total of savings payments made by the customer into savings accounts with Lloyds Banking Group entities, minus withdrawls from those accounts, during the year for which data was queried.|"
   ]
  },
  {
   "cell_type": "code",
   "execution_count": 2,
   "id": "17495112-ec7a-476b-bb25-646c7ee53d69",
   "metadata": {},
   "outputs": [
    {
     "data": {
      "text/html": [
       "<div>\n",
       "<style scoped>\n",
       "    .dataframe tbody tr th:only-of-type {\n",
       "        vertical-align: middle;\n",
       "    }\n",
       "\n",
       "    .dataframe tbody tr th {\n",
       "        vertical-align: top;\n",
       "    }\n",
       "\n",
       "    .dataframe thead th {\n",
       "        text-align: right;\n",
       "    }\n",
       "</style>\n",
       "<table border=\"1\" class=\"dataframe\">\n",
       "  <thead>\n",
       "    <tr style=\"text-align: right;\">\n",
       "      <th></th>\n",
       "      <th>cust_unique_id</th>\n",
       "      <th>age</th>\n",
       "      <th>gender</th>\n",
       "      <th>ethnicity_group</th>\n",
       "      <th>geo_region</th>\n",
       "      <th>net_salary</th>\n",
       "      <th>other_income</th>\n",
       "      <th>observed_income</th>\n",
       "      <th>housing_spend</th>\n",
       "      <th>childcare_spend</th>\n",
       "      <th>gambling_spend</th>\n",
       "      <th>observed_surplus</th>\n",
       "      <th>credit_score</th>\n",
       "      <th>savings_bal_lbg</th>\n",
       "      <th>annual_net_savings_lbg</th>\n",
       "    </tr>\n",
       "  </thead>\n",
       "  <tbody>\n",
       "    <tr>\n",
       "      <th>0</th>\n",
       "      <td>1</td>\n",
       "      <td>53</td>\n",
       "      <td>M</td>\n",
       "      <td>White British</td>\n",
       "      <td>Southeast</td>\n",
       "      <td>71602.70</td>\n",
       "      <td>19375.82</td>\n",
       "      <td>90978.52</td>\n",
       "      <td>28093.32</td>\n",
       "      <td>0.0</td>\n",
       "      <td>0.0</td>\n",
       "      <td>62885.20</td>\n",
       "      <td>2140.56</td>\n",
       "      <td>1713363.25</td>\n",
       "      <td>37712.97</td>\n",
       "    </tr>\n",
       "    <tr>\n",
       "      <th>1</th>\n",
       "      <td>2</td>\n",
       "      <td>52</td>\n",
       "      <td>Other</td>\n",
       "      <td>White British</td>\n",
       "      <td>Midlands</td>\n",
       "      <td>56111.36</td>\n",
       "      <td>11229.89</td>\n",
       "      <td>67341.25</td>\n",
       "      <td>22975.17</td>\n",
       "      <td>0.0</td>\n",
       "      <td>0.0</td>\n",
       "      <td>44366.07</td>\n",
       "      <td>1805.22</td>\n",
       "      <td>1148312.44</td>\n",
       "      <td>27008.50</td>\n",
       "    </tr>\n",
       "    <tr>\n",
       "      <th>2</th>\n",
       "      <td>3</td>\n",
       "      <td>62</td>\n",
       "      <td>M</td>\n",
       "      <td>Afro-Carribbean</td>\n",
       "      <td>Scotland</td>\n",
       "      <td>52804.51</td>\n",
       "      <td>9784.73</td>\n",
       "      <td>62589.24</td>\n",
       "      <td>22308.34</td>\n",
       "      <td>0.0</td>\n",
       "      <td>0.0</td>\n",
       "      <td>40280.90</td>\n",
       "      <td>1692.36</td>\n",
       "      <td>1420711.15</td>\n",
       "      <td>31364.28</td>\n",
       "    </tr>\n",
       "    <tr>\n",
       "      <th>3</th>\n",
       "      <td>4</td>\n",
       "      <td>44</td>\n",
       "      <td>Other</td>\n",
       "      <td>White British</td>\n",
       "      <td>Southeast</td>\n",
       "      <td>63360.88</td>\n",
       "      <td>16913.89</td>\n",
       "      <td>80274.76</td>\n",
       "      <td>27281.78</td>\n",
       "      <td>0.0</td>\n",
       "      <td>0.0</td>\n",
       "      <td>52992.99</td>\n",
       "      <td>1943.48</td>\n",
       "      <td>970783.31</td>\n",
       "      <td>27684.71</td>\n",
       "    </tr>\n",
       "    <tr>\n",
       "      <th>4</th>\n",
       "      <td>5</td>\n",
       "      <td>65</td>\n",
       "      <td>M</td>\n",
       "      <td>White British</td>\n",
       "      <td>Southeast</td>\n",
       "      <td>73642.58</td>\n",
       "      <td>NaN</td>\n",
       "      <td>73642.58</td>\n",
       "      <td>28985.51</td>\n",
       "      <td>0.0</td>\n",
       "      <td>0.0</td>\n",
       "      <td>68341.32</td>\n",
       "      <td>2233.66</td>\n",
       "      <td>2660671.01</td>\n",
       "      <td>29503.44</td>\n",
       "    </tr>\n",
       "  </tbody>\n",
       "</table>\n",
       "</div>"
      ],
      "text/plain": [
       "   cust_unique_id  age gender  ethnicity_group geo_region  net_salary  \\\n",
       "0               1   53      M    White British  Southeast    71602.70   \n",
       "1               2   52  Other    White British   Midlands    56111.36   \n",
       "2               3   62      M  Afro-Carribbean   Scotland    52804.51   \n",
       "3               4   44  Other    White British  Southeast    63360.88   \n",
       "4               5   65      M    White British  Southeast    73642.58   \n",
       "\n",
       "   other_income  observed_income  housing_spend  childcare_spend  \\\n",
       "0      19375.82         90978.52       28093.32              0.0   \n",
       "1      11229.89         67341.25       22975.17              0.0   \n",
       "2       9784.73         62589.24       22308.34              0.0   \n",
       "3      16913.89         80274.76       27281.78              0.0   \n",
       "4           NaN         73642.58       28985.51              0.0   \n",
       "\n",
       "   gambling_spend  observed_surplus credit_score  savings_bal_lbg  \\\n",
       "0             0.0          62885.20      2140.56       1713363.25   \n",
       "1             0.0          44366.07      1805.22       1148312.44   \n",
       "2             0.0          40280.90      1692.36       1420711.15   \n",
       "3             0.0          52992.99      1943.48        970783.31   \n",
       "4             0.0          68341.32      2233.66       2660671.01   \n",
       "\n",
       "   annual_net_savings_lbg  \n",
       "0                37712.97  \n",
       "1                27008.50  \n",
       "2                31364.28  \n",
       "3                27684.71  \n",
       "4                29503.44  "
      ]
     },
     "execution_count": 2,
     "metadata": {},
     "output_type": "execute_result"
    }
   ],
   "source": [
    "raw_df = pd.read_csv('../data/raw/savings_customers_data_v1.csv')\n",
    "raw_df.head(5)"
   ]
  },
  {
   "cell_type": "code",
   "execution_count": 3,
   "id": "5a2e45b2-d225-423a-9f60-bd8c6c9ccdac",
   "metadata": {},
   "outputs": [
    {
     "name": "stdout",
     "output_type": "stream",
     "text": [
      "Number of rows: 30305\n",
      "Number of columns: 15\n"
     ]
    }
   ],
   "source": [
    "# Dimensions\n",
    "print(f\"Number of rows: {raw_df.shape[0]}\")\n",
    "print(f\"Number of columns: {raw_df.shape[1]}\")"
   ]
  },
  {
   "cell_type": "markdown",
   "id": "a4a05ad8-7e8c-42d2-9e4f-0d281f05530f",
   "metadata": {},
   "source": [
    "## Data exploration"
   ]
  },
  {
   "cell_type": "markdown",
   "id": "32efbd27-c85f-4522-849e-4424b0fd1ea7",
   "metadata": {},
   "source": [
    "### Variable types"
   ]
  },
  {
   "cell_type": "markdown",
   "id": "13dc6920-1f00-4ac9-a250-e541d6ca11c5",
   "metadata": {},
   "source": [
    "**1) Categorical variables**\n",
    "\n",
    "* Nominal variables = Categories or groups that have *no* inherent order or ranking.\n",
    "  \n",
    "* Ordinal variables = Categories or groups with a meaningful order or ranking.\n",
    "\n",
    "    Note: It differs from the interval scale and ratio scale by not having category widths that represent equal increments of the underlying attribute\n",
    "\n",
    "|Variable|Definition|Type|\n",
    "|---|---|---|\n",
    "|cust_unique_id|A unique ID generated for each customer for the purposes of this analysis, in order to preserve customer anonymity.|Nominal/Ordinal|\n",
    "|gender|The self-identified gender recorded by each customer.|Nominal|\n",
    "|ethnicity_group|The self-identified etnnicity group recorded by each customer.|Nominal|\n",
    "|geo_region|The geographical region of the UK to which the customers recorded address and postcode correspond.|Nominal|"
   ]
  },
  {
   "cell_type": "markdown",
   "id": "dae0ebb4-58a4-4176-a3f8-3565e10435e8",
   "metadata": {},
   "source": [
    "**2) Continuous variables**\n",
    "\n",
    "* Interval variables = A quantitative scale with a meaningful order or ranking *and* equal distances between adjacent values.\n",
    "\n",
    "    Note: It differs from a ratio variable in that zero is an arbitrary point, not a complete absence of the variable.\n",
    "\n",
    "* Ratio variables = A quantitative scale with a meaningful order or ranking *and* equal distances between adjacent values *and* a true zero.\n",
    "\n",
    "|Variable|Definition|Type|\n",
    "|---|---|---|\n",
    "|age|The age of each customer in years at the mid-point of the year for which data was queried.|Ratio|\n",
    "|net_salary|The total inflows into the customer's current account identified as consisting of salary payments, based on a separate analysis.|Ratio|\n",
    "|other_income|The total inflows into the customer's current account identified as consisting of non-salary forms of income, based on a separate analysis.|Ratio|\n",
    "|observed_income|The sum of net_salary and other_income.|Ratio|\n",
    "|housing_spend|The total outflows from the customer's current account identified as consisting of mortgage, rent and other housing costs, based on a separate analysis.|Ratio|\n",
    "|childcare_spend|The total outflows from the customer's current account identified as consisting of nursery, childminder and other childcare costs, based on a separate analysis.|Ratio|\n",
    "|gambling_spend|The total outflows from the customer's current account identified as consisting of spending on gambling websites, based on a separate analysis.|Ratio|\n",
    "|observed_surplus|The total of observed income minus the total of observed costs.|Ratio|\n",
    "|savings_bal_lbg|The total balance of savings held by the customer with Lloyds Banking Group entities as of the start of the year for which data was queried.|Ratio|\n",
    "|annual_net_savings_lbg|The total of savings payments made by the customer into savings accounts with Lloyds Banking Group entities, minus withdrawls from those accounts, during the year for which data was queried.|Ratio|\n",
    "|credit_score|The credit score assigned to the customer by an internal bank credit scoring process.|Interval|"
   ]
  },
  {
   "cell_type": "markdown",
   "id": "cd8fb7c1-2b3f-40dc-936c-0e8494f3f6e2",
   "metadata": {},
   "source": [
    "### Data types\n",
    "\n",
    "* The data types for credit_score and cust_unique_id feature are updated to float and object, respectively.\n",
    "\n",
    "    Note: All occurences of 'PROMO34' in the credit_score column are replaced with a missing value."
   ]
  },
  {
   "cell_type": "code",
   "execution_count": 4,
   "id": "f582abd5-7a24-416c-bc01-bc709f6fc44d",
   "metadata": {},
   "outputs": [
    {
     "name": "stdout",
     "output_type": "stream",
     "text": [
      "<class 'pandas.core.frame.DataFrame'>\n",
      "RangeIndex: 30305 entries, 0 to 30304\n",
      "Data columns (total 15 columns):\n",
      " #   Column                  Non-Null Count  Dtype  \n",
      "---  ------                  --------------  -----  \n",
      " 0   cust_unique_id          30305 non-null  int64  \n",
      " 1   age                     30305 non-null  int64  \n",
      " 2   gender                  30305 non-null  object \n",
      " 3   ethnicity_group         30305 non-null  object \n",
      " 4   geo_region              30305 non-null  object \n",
      " 5   net_salary              30305 non-null  float64\n",
      " 6   other_income            26067 non-null  float64\n",
      " 7   observed_income         30305 non-null  float64\n",
      " 8   housing_spend           22949 non-null  float64\n",
      " 9   childcare_spend         30305 non-null  float64\n",
      " 10  gambling_spend          30305 non-null  float64\n",
      " 11  observed_surplus        30305 non-null  float64\n",
      " 12  credit_score            30305 non-null  object \n",
      " 13  savings_bal_lbg         30305 non-null  float64\n",
      " 14  annual_net_savings_lbg  30305 non-null  float64\n",
      "dtypes: float64(9), int64(2), object(4)\n",
      "memory usage: 3.5+ MB\n"
     ]
    },
    {
     "data": {
      "text/plain": [
       "None"
      ]
     },
     "metadata": {},
     "output_type": "display_data"
    },
    {
     "name": "stdout",
     "output_type": "stream",
     "text": [
      "\n",
      "\n"
     ]
    },
    {
     "data": {
      "text/plain": [
       "float64    9\n",
       "object     4\n",
       "int64      2\n",
       "Name: count, dtype: int64"
      ]
     },
     "metadata": {},
     "output_type": "display_data"
    }
   ],
   "source": [
    "display(raw_df.info())\n",
    "print(\"\\n\")\n",
    "display(raw_df.dtypes.value_counts())"
   ]
  },
  {
   "cell_type": "code",
   "execution_count": 5,
   "id": "d752f576-e877-4323-a940-36ae6c07e58d",
   "metadata": {},
   "outputs": [
    {
     "name": "stdout",
     "output_type": "stream",
     "text": [
      "Continuous: True\n"
     ]
    }
   ],
   "source": [
    "# Check if cust_unique_id is a continuous sequence of integers\n",
    "min_val, max_val = raw_df['cust_unique_id'].min(), raw_df['cust_unique_id'].max()\n",
    "expected_sequence = set(range(min_val, max_val + 1))\n",
    "print(f\"Continuous: {set(raw_df['cust_unique_id'].unique()) == expected_sequence}\")\n",
    "\n",
    "# Update cust_unique_id -> categorical dtype\n",
    "raw_df['cust_unique_id'] = pd.Categorical(raw_df['cust_unique_id'], categories=expected_sequence, ordered=True)"
   ]
  },
  {
   "cell_type": "code",
   "execution_count": 6,
   "id": "ac3728be-82cf-4d94-aa67-170a8cc790b6",
   "metadata": {},
   "outputs": [
    {
     "name": "stdout",
     "output_type": "stream",
     "text": [
      "['PROMO34']\n"
     ]
    }
   ],
   "source": [
    "# Update credit_score -> float\n",
    "non_numeric_values = raw_df[raw_df['credit_score'].apply(\n",
    "    lambda x: x.replace('.', '').isdigit()) == False]\n",
    "print(non_numeric_values['credit_score'].unique())\n",
    "raw_df['credit_score'] = raw_df['credit_score'].replace('PROMO34', 'NaN')\n",
    "raw_df[['credit_score']] = raw_df[['credit_score']].astype('float64')"
   ]
  },
  {
   "cell_type": "markdown",
   "id": "686430ec-e93d-4372-9cbf-09fcfaf30b42",
   "metadata": {},
   "source": [
    "### Summary statistics"
   ]
  },
  {
   "cell_type": "markdown",
   "id": "164c0fd2-9309-418e-a81d-fcd2f33bfe9c",
   "metadata": {},
   "source": [
    "**1) Continuous variables**\n",
    "\n",
    "* A large difference between mean and median values suggests the following features' distributions are skewed and/or contain outliers: childcare_spend, gambling_spend, observed_surplus and savings_bal_lbg.\n",
    "\n",
    "* The quantiles for childcare_spend and gambling_spend indicate at least 75% of their values are zero."
   ]
  },
  {
   "cell_type": "code",
   "execution_count": 7,
   "id": "99f7b3b5-7c14-4198-bafd-f81bde209c38",
   "metadata": {},
   "outputs": [
    {
     "data": {
      "text/html": [
       "<div>\n",
       "<style scoped>\n",
       "    .dataframe tbody tr th:only-of-type {\n",
       "        vertical-align: middle;\n",
       "    }\n",
       "\n",
       "    .dataframe tbody tr th {\n",
       "        vertical-align: top;\n",
       "    }\n",
       "\n",
       "    .dataframe thead th {\n",
       "        text-align: right;\n",
       "    }\n",
       "</style>\n",
       "<table border=\"1\" class=\"dataframe\">\n",
       "  <thead>\n",
       "    <tr style=\"text-align: right;\">\n",
       "      <th></th>\n",
       "      <th>age</th>\n",
       "      <th>net_salary</th>\n",
       "      <th>other_income</th>\n",
       "      <th>observed_income</th>\n",
       "      <th>housing_spend</th>\n",
       "      <th>childcare_spend</th>\n",
       "      <th>gambling_spend</th>\n",
       "      <th>observed_surplus</th>\n",
       "      <th>credit_score</th>\n",
       "      <th>savings_bal_lbg</th>\n",
       "      <th>annual_net_savings_lbg</th>\n",
       "    </tr>\n",
       "  </thead>\n",
       "  <tbody>\n",
       "    <tr>\n",
       "      <th>count</th>\n",
       "      <td>30305.000000</td>\n",
       "      <td>30305.000000</td>\n",
       "      <td>26067.000000</td>\n",
       "      <td>30305.000000</td>\n",
       "      <td>22949.000000</td>\n",
       "      <td>30305.000000</td>\n",
       "      <td>30305.000000</td>\n",
       "      <td>30305.000000</td>\n",
       "      <td>29255.000000</td>\n",
       "      <td>3.030500e+04</td>\n",
       "      <td>30305.000000</td>\n",
       "    </tr>\n",
       "    <tr>\n",
       "      <th>mean</th>\n",
       "      <td>41.654182</td>\n",
       "      <td>56585.867472</td>\n",
       "      <td>13580.886176</td>\n",
       "      <td>69246.199349</td>\n",
       "      <td>24719.267675</td>\n",
       "      <td>593.375517</td>\n",
       "      <td>98.408160</td>\n",
       "      <td>51270.967701</td>\n",
       "      <td>1810.792456</td>\n",
       "      <td>8.405509e+05</td>\n",
       "      <td>21299.618218</td>\n",
       "    </tr>\n",
       "    <tr>\n",
       "      <th>std</th>\n",
       "      <td>15.444812</td>\n",
       "      <td>11794.832398</td>\n",
       "      <td>5862.046413</td>\n",
       "      <td>14708.576183</td>\n",
       "      <td>4325.260951</td>\n",
       "      <td>2528.447257</td>\n",
       "      <td>2881.362877</td>\n",
       "      <td>16050.305701</td>\n",
       "      <td>228.215413</td>\n",
       "      <td>7.323375e+05</td>\n",
       "      <td>10018.424977</td>\n",
       "    </tr>\n",
       "    <tr>\n",
       "      <th>min</th>\n",
       "      <td>4.000000</td>\n",
       "      <td>-1000.000000</td>\n",
       "      <td>0.000000</td>\n",
       "      <td>32518.450000</td>\n",
       "      <td>10573.570000</td>\n",
       "      <td>0.000000</td>\n",
       "      <td>0.000000</td>\n",
       "      <td>-408635.510000</td>\n",
       "      <td>1270.000000</td>\n",
       "      <td>0.000000e+00</td>\n",
       "      <td>0.000000</td>\n",
       "    </tr>\n",
       "    <tr>\n",
       "      <th>25%</th>\n",
       "      <td>29.000000</td>\n",
       "      <td>50407.530000</td>\n",
       "      <td>9962.795000</td>\n",
       "      <td>59196.380000</td>\n",
       "      <td>21605.140000</td>\n",
       "      <td>0.000000</td>\n",
       "      <td>0.000000</td>\n",
       "      <td>40242.040000</td>\n",
       "      <td>1659.540000</td>\n",
       "      <td>1.514217e+05</td>\n",
       "      <td>16891.130000</td>\n",
       "    </tr>\n",
       "    <tr>\n",
       "      <th>50%</th>\n",
       "      <td>42.000000</td>\n",
       "      <td>56643.520000</td>\n",
       "      <td>12716.980000</td>\n",
       "      <td>67338.610000</td>\n",
       "      <td>24603.170000</td>\n",
       "      <td>0.000000</td>\n",
       "      <td>0.000000</td>\n",
       "      <td>50093.010000</td>\n",
       "      <td>1804.070000</td>\n",
       "      <td>7.113819e+05</td>\n",
       "      <td>22870.700000</td>\n",
       "    </tr>\n",
       "    <tr>\n",
       "      <th>75%</th>\n",
       "      <td>55.000000</td>\n",
       "      <td>64805.760000</td>\n",
       "      <td>18749.150000</td>\n",
       "      <td>82136.110000</td>\n",
       "      <td>28155.700000</td>\n",
       "      <td>0.000000</td>\n",
       "      <td>0.000000</td>\n",
       "      <td>60232.450000</td>\n",
       "      <td>1992.785000</td>\n",
       "      <td>1.397923e+06</td>\n",
       "      <td>28352.660000</td>\n",
       "    </tr>\n",
       "    <tr>\n",
       "      <th>max</th>\n",
       "      <td>68.000000</td>\n",
       "      <td>104374.080000</td>\n",
       "      <td>29752.890000</td>\n",
       "      <td>131050.070000</td>\n",
       "      <td>42189.020000</td>\n",
       "      <td>17778.930000</td>\n",
       "      <td>448664.260000</td>\n",
       "      <td>128700.410000</td>\n",
       "      <td>2719.650000</td>\n",
       "      <td>3.615059e+06</td>\n",
       "      <td>42951.370000</td>\n",
       "    </tr>\n",
       "  </tbody>\n",
       "</table>\n",
       "</div>"
      ],
      "text/plain": [
       "                age     net_salary  other_income  observed_income  \\\n",
       "count  30305.000000   30305.000000  26067.000000     30305.000000   \n",
       "mean      41.654182   56585.867472  13580.886176     69246.199349   \n",
       "std       15.444812   11794.832398   5862.046413     14708.576183   \n",
       "min        4.000000   -1000.000000      0.000000     32518.450000   \n",
       "25%       29.000000   50407.530000   9962.795000     59196.380000   \n",
       "50%       42.000000   56643.520000  12716.980000     67338.610000   \n",
       "75%       55.000000   64805.760000  18749.150000     82136.110000   \n",
       "max       68.000000  104374.080000  29752.890000    131050.070000   \n",
       "\n",
       "       housing_spend  childcare_spend  gambling_spend  observed_surplus  \\\n",
       "count   22949.000000     30305.000000    30305.000000      30305.000000   \n",
       "mean    24719.267675       593.375517       98.408160      51270.967701   \n",
       "std      4325.260951      2528.447257     2881.362877      16050.305701   \n",
       "min     10573.570000         0.000000        0.000000    -408635.510000   \n",
       "25%     21605.140000         0.000000        0.000000      40242.040000   \n",
       "50%     24603.170000         0.000000        0.000000      50093.010000   \n",
       "75%     28155.700000         0.000000        0.000000      60232.450000   \n",
       "max     42189.020000     17778.930000   448664.260000     128700.410000   \n",
       "\n",
       "       credit_score  savings_bal_lbg  annual_net_savings_lbg  \n",
       "count  29255.000000     3.030500e+04            30305.000000  \n",
       "mean    1810.792456     8.405509e+05            21299.618218  \n",
       "std      228.215413     7.323375e+05            10018.424977  \n",
       "min     1270.000000     0.000000e+00                0.000000  \n",
       "25%     1659.540000     1.514217e+05            16891.130000  \n",
       "50%     1804.070000     7.113819e+05            22870.700000  \n",
       "75%     1992.785000     1.397923e+06            28352.660000  \n",
       "max     2719.650000     3.615059e+06            42951.370000  "
      ]
     },
     "execution_count": 7,
     "metadata": {},
     "output_type": "execute_result"
    }
   ],
   "source": [
    "raw_df.select_dtypes(include=['number']).describe()"
   ]
  },
  {
   "cell_type": "markdown",
   "id": "a70989a1-9a7d-4d09-9a68-e3878b5bd443",
   "metadata": {},
   "source": [
    "**2) Categorical variables**\n",
    "* No duplicate values are present in cust_unique_id.\n",
    "\n",
    "* The number of unique values in the gender, ethnicity_group and geo_region columns is relatively low."
   ]
  },
  {
   "cell_type": "code",
   "execution_count": 8,
   "id": "b4de3279-e736-4565-a338-817a8eb82688",
   "metadata": {},
   "outputs": [
    {
     "data": {
      "text/html": [
       "<div>\n",
       "<style scoped>\n",
       "    .dataframe tbody tr th:only-of-type {\n",
       "        vertical-align: middle;\n",
       "    }\n",
       "\n",
       "    .dataframe tbody tr th {\n",
       "        vertical-align: top;\n",
       "    }\n",
       "\n",
       "    .dataframe thead th {\n",
       "        text-align: right;\n",
       "    }\n",
       "</style>\n",
       "<table border=\"1\" class=\"dataframe\">\n",
       "  <thead>\n",
       "    <tr style=\"text-align: right;\">\n",
       "      <th></th>\n",
       "      <th>cust_unique_id</th>\n",
       "      <th>gender</th>\n",
       "      <th>ethnicity_group</th>\n",
       "      <th>geo_region</th>\n",
       "    </tr>\n",
       "  </thead>\n",
       "  <tbody>\n",
       "    <tr>\n",
       "      <th>count</th>\n",
       "      <td>30305</td>\n",
       "      <td>30305</td>\n",
       "      <td>30305</td>\n",
       "      <td>30305</td>\n",
       "    </tr>\n",
       "    <tr>\n",
       "      <th>unique</th>\n",
       "      <td>30305</td>\n",
       "      <td>4</td>\n",
       "      <td>5</td>\n",
       "      <td>6</td>\n",
       "    </tr>\n",
       "    <tr>\n",
       "      <th>top</th>\n",
       "      <td>1</td>\n",
       "      <td>F</td>\n",
       "      <td>White British</td>\n",
       "      <td>Southeast</td>\n",
       "    </tr>\n",
       "    <tr>\n",
       "      <th>freq</th>\n",
       "      <td>1</td>\n",
       "      <td>14742</td>\n",
       "      <td>25066</td>\n",
       "      <td>13590</td>\n",
       "    </tr>\n",
       "  </tbody>\n",
       "</table>\n",
       "</div>"
      ],
      "text/plain": [
       "        cust_unique_id gender ethnicity_group geo_region\n",
       "count            30305  30305           30305      30305\n",
       "unique           30305      4               5          6\n",
       "top                  1      F   White British  Southeast\n",
       "freq                 1  14742           25066      13590"
      ]
     },
     "execution_count": 8,
     "metadata": {},
     "output_type": "execute_result"
    }
   ],
   "source": [
    "raw_df.select_dtypes(include=['object', 'category']).describe()"
   ]
  },
  {
   "cell_type": "markdown",
   "id": "464f3068-0129-41e1-8e7a-a8c24308cc79",
   "metadata": {},
   "source": [
    "### Frequency distributions"
   ]
  },
  {
   "cell_type": "markdown",
   "id": "2dced7d5-1cd3-4aac-82c1-7d4f7e7b60e5",
   "metadata": {},
   "source": [
    "**1) Continuous variables**\n",
    "\n",
    "* A relatively uniform distribution is observed for age.\n",
    "\n",
    "* A positive skew is exhibited by savings_bal_lbg.\n",
    "\n",
    "* The childcare_spend and gambling_spend columns contain a high proportion of zeros (94.6% and 90.8%, respectively) \n",
    "\n",
    "* Both gambling_spend and observed_surplus contain an outlier.\n",
    "\n",
    "* Ommitting zero values in the childcare_spend column reveals a symmetric distribution.\n",
    "\n",
    "* Ommitting zero values in the gambling_spend column reveals a positive skew."
   ]
  },
  {
   "cell_type": "code",
   "execution_count": 9,
   "id": "5d787ad3-049b-4459-a0ef-9fc83735ea1b",
   "metadata": {},
   "outputs": [
    {
     "data": {
      "image/png": "[encoded data removed]",
      "text/plain": [
       "<Figure size 1280x480 with 11 Axes>"
      ]
     },
     "metadata": {},
     "output_type": "display_data"
    }
   ],
   "source": [
    "fig, axes = plt.subplots(\n",
    "    nrows=3, ncols=4, constrained_layout=True, figsize=(6.4*2, 4.8)\n",
    ")\n",
    "i = 0\n",
    "axes = axes.flatten()\n",
    "for col in raw_df.select_dtypes(include=['number']).columns:\n",
    "    axes[i].hist(raw_df[col], color='dimgray', alpha=0.8, label='')\n",
    "    axes[i].set_title(col, fontsize=10, color='dimgray')\n",
    "    i += 1\n",
    "\n",
    "for ax in axes:\n",
    "    ax.tick_params(bottom=False, left=False)\n",
    "    ax.grid(False)\n",
    "    ax.spines[['top', 'right']].set_visible(False)\n",
    "    ax.spines[['left', 'bottom']].set_color('dimgray')\n",
    "fig.delaxes(axes[11])"
   ]
  },
  {
   "cell_type": "code",
   "execution_count": 10,
   "id": "a6ca0892-6d74-4601-8d68-56e470d676cc",
   "metadata": {},
   "outputs": [
    {
     "data": {
      "image/png": "[encoded data removed]",
      "text/plain": [
       "<Figure size 640x240 with 3 Axes>"
      ]
     },
     "metadata": {},
     "output_type": "display_data"
    }
   ],
   "source": [
    "fig, axes = plt.subplots(\n",
    "    nrows=1, ncols=3, constrained_layout=True, figsize=(6.4, 4.8/2)\n",
    ")\n",
    "i = 0\n",
    "axes = axes.flatten()\n",
    "for col in ['childcare_spend', 'gambling_spend', 'observed_surplus']:\n",
    "    axes[i].boxplot(raw_df[col])\n",
    "    axes[i].set_title(col, fontsize=10, color='dimgray')\n",
    "    i += 1\n",
    "\n",
    "for ax in axes:\n",
    "    ax.tick_params(bottom=False, left=False)\n",
    "    ax.grid(False)\n",
    "    ax.spines[['top', 'right']].set_visible(False)\n",
    "    ax.spines[['left', 'bottom']].set_color('dimgray')"
   ]
  },
  {
   "cell_type": "code",
   "execution_count": 11,
   "id": "a3bcf172-773c-4dce-bb25-88694d9ad26f",
   "metadata": {},
   "outputs": [
    {
     "name": "stdout",
     "output_type": "stream",
     "text": [
      "Proportion of zeros in childcare_spend: 0.9459825111367761\n",
      "Proportion of zeros in gambling_spend: 0.9077379970301931\n"
     ]
    }
   ],
   "source": [
    "for col in ['childcare_spend', 'gambling_spend']:\n",
    "    print(\n",
    "        f\"Proportion of zeros in {col}: {raw_df.loc[raw_df[col] == 0, col].count()/len(raw_df.index)}\"\n",
    "    )"
   ]
  },
  {
   "cell_type": "code",
   "execution_count": 12,
   "id": "bf4032db-b8f8-4bef-835d-d17d20c327b3",
   "metadata": {},
   "outputs": [
    {
     "data": {
      "image/png": "[encoded data removed]",
      "text/plain": [
       "<Figure size 640x240 with 3 Axes>"
      ]
     },
     "metadata": {},
     "output_type": "display_data"
    }
   ],
   "source": [
    "fig, axes = plt.subplots(\n",
    "    nrows=1, ncols=3, constrained_layout=True, figsize=(6.4, 4.8/2)\n",
    ")\n",
    "\n",
    "# Histogram for childcare_spend (excluding zeros)\n",
    "axes[0].hist(raw_df.loc[raw_df['childcare_spend'] != 0,\n",
    "             'childcare_spend'], color='dimgray', alpha=0.8, label=''\n",
    "            )\n",
    "\n",
    "# Histogram for gambling_spend (excluding zeros & outliers)\n",
    "percentile_lower = np.percentile(raw_df['gambling_spend'], 91)\n",
    "percentile_upper = np.percentile(raw_df['gambling_spend'], 99)\n",
    "filter_condition = (raw_df['gambling_spend'] >= percentile_lower) & (\n",
    "    raw_df['gambling_spend'] <= percentile_upper\n",
    ")\n",
    "axes[1].hist(raw_df.loc[filter_condition, 'gambling_spend'],\n",
    "             color='dimgray', alpha=0.8, label=''\n",
    "            )\n",
    "\n",
    "# Histogram for observed_surplus (excluding zeros & max value)\n",
    "axes[2].hist(raw_df.loc[raw_df['observed_surplus'] != raw_df['observed_surplus'].min(\n",
    "), 'observed_surplus'], color='dimgray', alpha=0.8, label=''\n",
    "            )\n",
    "\n",
    "axes[0].set_title('childcare_spend', fontsize=10, color='dimgray')\n",
    "axes[1].set_title('gambling_spend', fontsize=10, color='dimgray')\n",
    "axes[2].set_title('observed_surplus', fontsize=10, color='dimgray')\n",
    "for ax in axes:\n",
    "    ax.tick_params(bottom=False, left=False)\n",
    "    ax.grid(False)\n",
    "    ax.spines[['top', 'right']].set_visible(False)\n",
    "    ax.spines[['left', 'bottom']].set_color('dimgray')"
   ]
  },
  {
   "cell_type": "markdown",
   "id": "b4e91041-9755-47de-99e2-984dd5030a98",
   "metadata": {},
   "source": [
    "**2) Categorical variables**\n",
    "\n",
    "* No duplicate values are present in cust_unique_id.\n",
    "\n",
    "* The distributions of gender, ethnicity_group and geo_region are imbalanced.\n",
    "\n",
    "* One of the gender categories is called '999'. The meaning is unclear."
   ]
  },
  {
   "cell_type": "code",
   "execution_count": 13,
   "id": "931cb275-8fcc-4bc7-bfc2-6ce9621c770b",
   "metadata": {},
   "outputs": [
    {
     "data": {
      "image/png": "[encoded data removed]",
      "text/plain": [
       "<Figure size 640x320 with 1 Axes>"
      ]
     },
     "metadata": {},
     "output_type": "display_data"
    }
   ],
   "source": [
    "# Cardinality\n",
    "fig, axes = plt.subplots(figsize=(6.4, 4.8/1.5))\n",
    "axes.tick_params(bottom=False, left=False)\n",
    "axes.grid(False)\n",
    "axes.spines[['top', 'right']].set_visible(False)\n",
    "axes.spines[['left', 'bottom']].set_color('dimgray')\n",
    "\n",
    "object_nunique = raw_df.select_dtypes(include=['object', 'category']).nunique()\n",
    "bars = axes.bar(object_nunique.index, object_nunique.values,\n",
    "                color='dimgray', alpha=0.8\n",
    "               )\n",
    "axes.bar_label(bars, padding=1)\n",
    "axes.set_ylabel('Count', fontsize=10, color='dimgray')\n",
    "axes.set_title('Cardinality', fontsize=10, color='dimgray');"
   ]
  },
  {
   "cell_type": "code",
   "execution_count": 14,
   "id": "3a585af7-7ded-47ec-ba37-500902e05049",
   "metadata": {},
   "outputs": [
    {
     "data": {
      "image/png": "[encoded data removed]",
      "text/plain": [
       "<Figure size 640x480 with 3 Axes>"
      ]
     },
     "metadata": {},
     "output_type": "display_data"
    }
   ],
   "source": [
    "# Frequency plots\n",
    "fig, axes = plt.subplots(\n",
    "    nrows=3, ncols=1, constrained_layout=True, figsize=(6.4, 4.8)\n",
    ")\n",
    "i = 0\n",
    "for col in ['gender', 'ethnicity_group', 'geo_region']:\n",
    "    counts = raw_df[col].value_counts()\n",
    "    percs = raw_df[col].value_counts(normalize=True)\n",
    "    rects = axes[i].barh(counts.index, counts.values,\n",
    "                         color='dimgray', alpha=0.8)\n",
    "    axes[i].bar_label(rects, labels=[str(round(x*100, 1)) +\n",
    "                      '%' for x in percs.values], padding=3)\n",
    "    axes[i].set_title(col, fontsize=10, color='dimgray')\n",
    "    i += 1\n",
    "for ax in axes:\n",
    "    ax.tick_params(bottom=False, left=False)\n",
    "    ax.grid(False)\n",
    "    ax.spines[['top', 'right']].set_visible(False)\n",
    "    ax.spines[['left', 'bottom']].set_color('dimgray')"
   ]
  },
  {
   "cell_type": "markdown",
   "id": "c21517aa-3648-4d34-a123-653501b30bc4",
   "metadata": {},
   "source": [
    "### Missing values\n",
    "\n",
    "* Missing values are present in the other_income (14.0%), housing_spend (24.3%) and credit_score (3.5%) columns.\n",
    "\n",
    "* A total of 1,362 rows contain more than one missing value.\n",
    "\n",
    "* A nullity correlation matrix indicates missing values are not correlated with missing values in other columns.\n",
    "\n",
    "    Note: Methodology explained [here](https://stats.stackexchange.com/questions/491635/interpreting-a-nullity-correlation-matrix)\n",
    "\n",
    "* A random forest is used to predict the occurrence of missing values. This was chosen as it can capture nonlinear relationships and requires no prior feature selection, feature scaling or removal of outliers. In order to address the class imbalance, the Random Forest was coupled with SMOTE.\n",
    "\n",
    "* Random forests are trained to predict the presence of a missing value using observed values in other features. The optimal models for other_income and housing_spend display superior precision and recall compared to a no-skill classifier. This suggests these missing values are not missing completely at random. No meaningful performance was achieved for credit score. These missing values may therefore be missing at random.\n",
    "\n",
    "    Note: All models used a binary indicator variable, which flags whether an observation is missing or not, as target. SMOTE was conducted on training data to balance the distribution of instances with/without a missing value."
   ]
  },
  {
   "cell_type": "markdown",
   "id": "de3832a6-2e89-4dbf-a41b-8e4db95f4f3f",
   "metadata": {},
   "source": [
    "#### Background"
   ]
  },
  {
   "cell_type": "markdown",
   "id": "8b1b9d49-6e1b-40d9-8cb7-92a56446251d",
   "metadata": {},
   "source": [
    "**1) Nullity correlation matrix**\n",
    "\n",
    "* The missingno package computes the correlation matrix using the [phi coefficient](https://en.wikipedia.org/wiki/Phi_coefficient#:~:text=A%20Pearson%20correlation%20coefficient%20estimated,falls%20along%20the%20diagonal%20cells) $\\phi$\n",
    "\n",
    "* $\\phi$ is equivalent to the Pearson correlation coefficient for two binary variables\n",
    "\n",
    "* Calculated using contingency table\n",
    "\n",
    "* $\\phi \\in [-1, +1]$\n",
    "\n",
    "    $\\phi=1$: A perfect positive association (both variables are always 1 together or always 0 together)\n",
    "\n",
    "    $\\phi=-1$ A perfect negative association (one variable is always 1 when the other is 0, and vice versa)\n",
    "\n",
    "    $\\phi=0$: No association."
   ]
  },
  {
   "cell_type": "markdown",
   "id": "040f2c20-cce2-45f4-ad24-6175e3cef509",
   "metadata": {},
   "source": [
    "--------------"
   ]
  },
  {
   "cell_type": "markdown",
   "id": "ab0b5ffe-344f-4fe2-afbe-05173a02633f",
   "metadata": {},
   "source": [
    "**2) Random forest**\n",
    "\n",
    "* Quality of split:\n",
    "\n",
    "    * Measured using the *Gini coefficient* $I_G$:\n",
    "\n",
    "        $I_G = \\sum_{i=1}^Cp_i\\bigl(1-p_i\\bigr)$\n",
    "\n",
    "        *Where $p_i$ is the probability of choosing an instance with class $i$ and $1-p_i$ is the probability of misclassifying it.*\n",
    "\n",
    "    * Impurity is maximised when the set is evenly split among all classes. The max value depends on the number of classes:\n",
    "  \n",
    "        $C=2: max(I_G)=0.5$\n",
    "\n",
    "        $C=1000: max(I_G)=0.999$\n",
    "\n",
    "    * Impurity is $0$ when the set consists of only one class. \n",
    "\n",
    "* Hyperparameters:\n",
    "\n",
    "    * Only $10$ constituent decision trees were used. This struck a balance between reducing variance and increasing computational time (during inference and optimisation).\n",
    "\n",
    "    * The complexity of the model was tuned using the following hyperparameters:\n",
    "\n",
    "        - Number of estimators\n",
    " \n",
    "        - Max depth"
   ]
  },
  {
   "cell_type": "markdown",
   "id": "28a30ec7-7854-4f9b-9b63-e4c53a7ca2ad",
   "metadata": {},
   "source": [
    "-----------"
   ]
  },
  {
   "cell_type": "markdown",
   "id": "843eeac8-9470-47ea-b9ee-f543b7f69c22",
   "metadata": {},
   "source": [
    "**3) Synthetic Minority Over-sampling Technique (SMOTE)**\n",
    "\n",
    "* Working with highly imbalanced data is problematic:\n",
    "\n",
    "    - distorted performance metrics\n",
    "  \n",
    "    - poor generalisation as insufficient training leads to a poor decision boundary\n",
    " \n",
    "* Default settings were used due to time constraints:\n",
    "  \n",
    "    - $\\text{nearest neighbours} = 5$\n",
    " \n",
    "    - The minority class was oversampled to a balanced distribution.\n",
    "\n",
    "* Algorithm:\n",
    "\n",
    "    - Select a member of the minority class $x_i$ at random\n",
    "\n",
    "    - Identify its k-nearest neighbours\n",
    "\n",
    "    - Randomly place a new observation between $x_i$ and each of its neighbours\n",
    "\n",
    "        $x_{new} = x_i + \\lambda\\bigl(x_{zi}-x_i\\bigr)$\n",
    "\n",
    "        *Where $\\lambda \\in [0, 1]$*"
   ]
  },
  {
   "cell_type": "markdown",
   "id": "d4d207d8-7344-4aef-9de2-6ca651cdadfe",
   "metadata": {},
   "source": [
    "---------------"
   ]
  },
  {
   "cell_type": "markdown",
   "id": "85047e60-4eb3-445a-aa8f-f74514771387",
   "metadata": {},
   "source": [
    "**4) No-skill (random) classifier performance**\n",
    "\n",
    "* Expected recall for the minority class:\n",
    "\n",
    "    $Recall = \\frac{TP}{TP + FN} = \\frac{p\\bigl(TP\\bigr)}{p\\bigl(TP\\bigr) + p\\bigl(FN\\bigr)}$\n",
    "\n",
    "    $Recall = \\frac{pP}{pP + (1-p)P} = \\frac{pP}{pP + P-pP} = p$\n",
    "\n",
    "    *Where $P$ is the probability of an instance being class $1$, and  the random classifier outputs class $1$ with probability $p$.*\n",
    "\n",
    "* Expected precision for the majority class:\n",
    "\n",
    "    $Precision = \\frac{TP}{TP + FP} = \\frac{p\\bigl(TP\\bigr)}{p\\bigl(TP\\bigr) + p\\bigl(FP\\bigr)}$\n",
    "\n",
    "    $Precision = \\frac{pP}{pP + p(1-P)} = \\frac{pP}{pP + p-pP} = P$\n",
    "\n",
    "    *Where $P$ is the probability of an instance being class $1$, and  the random classifier outputs class $1$ with probability $p$.*\n",
    "\n",
    "* In this instance:\n",
    "\n",
    "  - $p=0.5$: A 'uniform' sampling strategy means the probability of outputting each class is the same.\n",
    " \n",
    "  - $P$: The proportion of the relevant class."
   ]
  },
  {
   "cell_type": "markdown",
   "id": "12f315a1-1375-4ab7-a6b2-0e3715b81cd7",
   "metadata": {},
   "source": [
    "#### Analyses"
   ]
  },
  {
   "cell_type": "markdown",
   "id": "4ab1badb-c163-4dc4-988f-4123afefdac5",
   "metadata": {},
   "source": [
    "**Proportion of missing values**"
   ]
  },
  {
   "cell_type": "code",
   "execution_count": 15,
   "id": "698a8b18-33db-45af-95ca-7937c63b94d2",
   "metadata": {},
   "outputs": [
    {
     "data": {
      "text/html": [
       "<div>\n",
       "<style scoped>\n",
       "    .dataframe tbody tr th:only-of-type {\n",
       "        vertical-align: middle;\n",
       "    }\n",
       "\n",
       "    .dataframe tbody tr th {\n",
       "        vertical-align: top;\n",
       "    }\n",
       "\n",
       "    .dataframe thead th {\n",
       "        text-align: right;\n",
       "    }\n",
       "</style>\n",
       "<table border=\"1\" class=\"dataframe\">\n",
       "  <thead>\n",
       "    <tr style=\"text-align: right;\">\n",
       "      <th></th>\n",
       "      <th>Count</th>\n",
       "      <th>%</th>\n",
       "    </tr>\n",
       "  </thead>\n",
       "  <tbody>\n",
       "    <tr>\n",
       "      <th>other_income</th>\n",
       "      <td>4238</td>\n",
       "      <td>0.139845</td>\n",
       "    </tr>\n",
       "    <tr>\n",
       "      <th>housing_spend</th>\n",
       "      <td>7356</td>\n",
       "      <td>0.242732</td>\n",
       "    </tr>\n",
       "    <tr>\n",
       "      <th>credit_score</th>\n",
       "      <td>1050</td>\n",
       "      <td>0.034648</td>\n",
       "    </tr>\n",
       "  </tbody>\n",
       "</table>\n",
       "</div>"
      ],
      "text/plain": [
       "               Count         %\n",
       "other_income    4238  0.139845\n",
       "housing_spend   7356  0.242732\n",
       "credit_score    1050  0.034648"
      ]
     },
     "metadata": {},
     "output_type": "display_data"
    },
    {
     "name": "stdout",
     "output_type": "stream",
     "text": [
      "Number of rows with more than one missing value: 1362\n"
     ]
    }
   ],
   "source": [
    "# Identify columns with missing values\n",
    "nan_summary = pd.concat(\n",
    "    [raw_df.isnull().sum()[(raw_df.isnull().sum() > 1)],\n",
    "     raw_df.isnull().sum()[(raw_df.isnull().sum() > 1)] / raw_df.shape[0]],\n",
    "    axis=1, keys=['Count', '%']\n",
    ")\n",
    "display(nan_summary)\n",
    "\n",
    "# Count rows with more than one missing value\n",
    "rows_with_multiple_missing = raw_df[raw_df.isnull().sum(axis=1) > 1]\n",
    "print(f\"Number of rows with more than one missing value: {len(rows_with_multiple_missing)}\")"
   ]
  },
  {
   "cell_type": "markdown",
   "id": "e08a5fd4-1581-4ab2-8c0d-2a71dbd650e0",
   "metadata": {},
   "source": [
    "**Nullity correlation matrix**"
   ]
  },
  {
   "cell_type": "code",
   "execution_count": 16,
   "id": "187486ef-ea93-4322-a388-b4b827e50a2f",
   "metadata": {},
   "outputs": [
    {
     "data": {
      "image/png": "[encoded data removed]",
      "text/plain": [
       "<Figure size 426.667x320 with 2 Axes>"
      ]
     },
     "metadata": {},
     "output_type": "display_data"
    }
   ],
   "source": [
    "# Compute nullity correlation matrix\n",
    "fig, axes = plt.subplots(nrows=1, ncols=1, figsize=(6.4/1.5, 4.8/1.5))\n",
    "msno.heatmap(raw_df, ax=axes);"
   ]
  },
  {
   "cell_type": "markdown",
   "id": "d4a5b70a-b71e-48b0-a48e-776861769815",
   "metadata": {},
   "source": [
    "**Predicting missing value occurrence**\n",
    "\n",
    "* Performance is evaluated using a no-skill random classifier, precision & recall. \n",
    "\n",
    "    *Note: Accuracy cannot be used as the dummy classifier doesn't utilise SMOTE (i.e. classes are unbalanced).*"
   ]
  },
  {
   "cell_type": "code",
   "execution_count": 17,
   "id": "1758709d-60f5-4d14-b333-88e634e87e58",
   "metadata": {},
   "outputs": [
    {
     "name": "stdout",
     "output_type": "stream",
     "text": [
      "-----------------------------other_income-----------------------------\n",
      "Best model: \n",
      "               precision    recall  f1-score   support\n",
      "\n",
      "           0       0.98      1.00      0.99      5213\n",
      "           1       0.98      0.87      0.92       848\n",
      "\n",
      "    accuracy                           0.98      6061\n",
      "   macro avg       0.98      0.93      0.95      6061\n",
      "weighted avg       0.98      0.98      0.98      6061\n",
      "\n",
      "No-skill: \n",
      "               precision    recall  f1-score   support\n",
      "\n",
      "           0       0.86      0.50      0.63      5213\n",
      "           1       0.14      0.51      0.22       848\n",
      "\n",
      "    accuracy                           0.50      6061\n",
      "   macro avg       0.50      0.50      0.43      6061\n",
      "weighted avg       0.76      0.50      0.57      6061\n",
      "\n",
      "-----------------------------housing_spend-----------------------------\n",
      "Best model: \n",
      "               precision    recall  f1-score   support\n",
      "\n",
      "           0       0.99      1.00      0.99      4590\n",
      "           1       0.99      0.97      0.98      1471\n",
      "\n",
      "    accuracy                           0.99      6061\n",
      "   macro avg       0.99      0.98      0.99      6061\n",
      "weighted avg       0.99      0.99      0.99      6061\n",
      "\n",
      "No-skill: \n",
      "               precision    recall  f1-score   support\n",
      "\n",
      "           0       0.76      0.49      0.60      4590\n",
      "           1       0.24      0.51      0.33      1471\n",
      "\n",
      "    accuracy                           0.50      6061\n",
      "   macro avg       0.50      0.50      0.46      6061\n",
      "weighted avg       0.63      0.50      0.53      6061\n",
      "\n",
      "-----------------------------credit_score-----------------------------\n",
      "Best model: \n",
      "               precision    recall  f1-score   support\n",
      "\n",
      "           0       0.96      0.99      0.98      5851\n",
      "           1       0.00      0.00      0.00       210\n",
      "\n",
      "    accuracy                           0.96      6061\n",
      "   macro avg       0.48      0.49      0.49      6061\n",
      "weighted avg       0.93      0.96      0.94      6061\n",
      "\n",
      "No-skill: \n",
      "               precision    recall  f1-score   support\n",
      "\n",
      "           0       0.96      0.49      0.65      5851\n",
      "           1       0.03      0.50      0.06       210\n",
      "\n",
      "    accuracy                           0.49      6061\n",
      "   macro avg       0.50      0.50      0.36      6061\n",
      "weighted avg       0.93      0.49      0.63      6061\n",
      "\n"
     ]
    }
   ],
   "source": [
    "# Predict missing value using random forest\n",
    "features_missing_values = ['other_income', 'housing_spend', 'credit_score']\n",
    "\n",
    "for col in features_missing_values:\n",
    "    # Encode missing values via indicator variables\n",
    "    predicted_df = raw_df.copy()\n",
    "    predicted_df[col + '_missing'] = predicted_df[col].isnull().astype(int)\n",
    "    predicted_df = predicted_df.drop(columns=features_missing_values)\n",
    "\n",
    "    # Train/test split\n",
    "    y_col = col + '_missing'\n",
    "    X_cols = [x for x in predicted_df.columns if x != col + '_missing' and x not in features_missing_values]\n",
    "    X_train, X_test, y_train, y_test = train_test_split(\n",
    "        predicted_df[X_cols], predicted_df[y_col], test_size=0.2, stratify=predicted_df[y_col], random_state=42\n",
    "    )\n",
    "\n",
    "    # Create a pipeline with a one hot encoder, SMOTE and a random forest\n",
    "    categorical_features = ['gender', 'ethnicity_group', 'geo_region']\n",
    "    preprocessor = ColumnTransformer(\n",
    "        transformers=[('onehot', OneHotEncoder(handle_unknown='ignore'), categorical_features)], \n",
    "        remainder='passthrough'\n",
    "    )\n",
    "    pipe = make_pipeline(preprocessor, SMOTE(random_state=42), RandomForestClassifier())\n",
    "    \n",
    "    # Define hyperparameters to tune\n",
    "    param_grid = {\n",
    "        'smote__sampling_strategy': [1.0],\n",
    "        'randomforestclassifier__n_estimators': [10],\n",
    "        'randomforestclassifier__max_depth': [None, 10, 20]}\n",
    "       \n",
    "    # Grid search\n",
    "    grid_search = GridSearchCV(pipe, param_grid, cv=5, scoring='f1', refit='f1')\n",
    "    grid_search.fit(X_train, y_train)\n",
    "    \n",
    "    # Predict with the best model\n",
    "    best_model = grid_search.best_estimator_\n",
    "    predicted_values = best_model.predict(X_test)\n",
    "    \n",
    "    # Predict with a dummy model\n",
    "    dummy_model = DummyClassifier(strategy='uniform')\n",
    "    dummy_model.fit(X_train, y_train)\n",
    "    dummy_predicted_values = dummy_model.predict(X_test)\n",
    "\n",
    "    print(f'-----------------------------{col}-----------------------------')\n",
    "    print('Best model: \\n', classification_report(y_test, predicted_values))\n",
    "    print('No-skill: \\n', classification_report(y_test, dummy_predicted_values))"
   ]
  },
  {
   "cell_type": "markdown",
   "id": "a4d6acc4-5ead-4708-ac8b-231cb34a73c9",
   "metadata": {},
   "source": [
    "## Data cleansing"
   ]
  },
  {
   "cell_type": "markdown",
   "id": "9746819f-d63f-4b61-ba21-7bb53ecc677a",
   "metadata": {},
   "source": [
    "### Erroneous data\n",
    "\n",
    "* All occurences of 'PROMO34' in the credit_score column were replaced with a missing value earlier.\n",
    "\n",
    "* No duplicate rows are present.\n",
    "\n",
    "* The meaning of the \"999\" gender category is unclear. Given the relatively large number of records with this value, they will be left the same."
   ]
  },
  {
   "cell_type": "code",
   "execution_count": 18,
   "id": "862b3650-f9b8-418c-8ad8-c8d043fdb384",
   "metadata": {},
   "outputs": [
    {
     "data": {
      "text/html": [
       "<div>\n",
       "<style scoped>\n",
       "    .dataframe tbody tr th:only-of-type {\n",
       "        vertical-align: middle;\n",
       "    }\n",
       "\n",
       "    .dataframe tbody tr th {\n",
       "        vertical-align: top;\n",
       "    }\n",
       "\n",
       "    .dataframe thead th {\n",
       "        text-align: right;\n",
       "    }\n",
       "</style>\n",
       "<table border=\"1\" class=\"dataframe\">\n",
       "  <thead>\n",
       "    <tr style=\"text-align: right;\">\n",
       "      <th></th>\n",
       "      <th>cust_unique_id</th>\n",
       "      <th>age</th>\n",
       "      <th>gender</th>\n",
       "      <th>ethnicity_group</th>\n",
       "      <th>geo_region</th>\n",
       "      <th>net_salary</th>\n",
       "      <th>other_income</th>\n",
       "      <th>observed_income</th>\n",
       "      <th>housing_spend</th>\n",
       "      <th>childcare_spend</th>\n",
       "      <th>gambling_spend</th>\n",
       "      <th>observed_surplus</th>\n",
       "      <th>credit_score</th>\n",
       "      <th>savings_bal_lbg</th>\n",
       "      <th>annual_net_savings_lbg</th>\n",
       "    </tr>\n",
       "  </thead>\n",
       "  <tbody>\n",
       "  </tbody>\n",
       "</table>\n",
       "</div>"
      ],
      "text/plain": [
       "Empty DataFrame\n",
       "Columns: [cust_unique_id, age, gender, ethnicity_group, geo_region, net_salary, other_income, observed_income, housing_spend, childcare_spend, gambling_spend, observed_surplus, credit_score, savings_bal_lbg, annual_net_savings_lbg]\n",
       "Index: []"
      ]
     },
     "execution_count": 18,
     "metadata": {},
     "output_type": "execute_result"
    }
   ],
   "source": [
    "raw_df[raw_df.duplicated()]"
   ]
  },
  {
   "cell_type": "code",
   "execution_count": 19,
   "id": "a3a2358e-2c27-438d-afbf-cf4acc10aedf",
   "metadata": {},
   "outputs": [
    {
     "data": {
      "text/html": [
       "<div>\n",
       "<style scoped>\n",
       "    .dataframe tbody tr th:only-of-type {\n",
       "        vertical-align: middle;\n",
       "    }\n",
       "\n",
       "    .dataframe tbody tr th {\n",
       "        vertical-align: top;\n",
       "    }\n",
       "\n",
       "    .dataframe thead th {\n",
       "        text-align: right;\n",
       "    }\n",
       "</style>\n",
       "<table border=\"1\" class=\"dataframe\">\n",
       "  <thead>\n",
       "    <tr style=\"text-align: right;\">\n",
       "      <th></th>\n",
       "      <th>Count</th>\n",
       "      <th>%</th>\n",
       "    </tr>\n",
       "    <tr>\n",
       "      <th>gender</th>\n",
       "      <th></th>\n",
       "      <th></th>\n",
       "    </tr>\n",
       "  </thead>\n",
       "  <tbody>\n",
       "    <tr>\n",
       "      <th>F</th>\n",
       "      <td>14742</td>\n",
       "      <td>0.486454</td>\n",
       "    </tr>\n",
       "    <tr>\n",
       "      <th>M</th>\n",
       "      <td>14623</td>\n",
       "      <td>0.482528</td>\n",
       "    </tr>\n",
       "    <tr>\n",
       "      <th>Other</th>\n",
       "      <td>580</td>\n",
       "      <td>0.019139</td>\n",
       "    </tr>\n",
       "    <tr>\n",
       "      <th>9999</th>\n",
       "      <td>360</td>\n",
       "      <td>0.011879</td>\n",
       "    </tr>\n",
       "  </tbody>\n",
       "</table>\n",
       "</div>"
      ],
      "text/plain": [
       "        Count         %\n",
       "gender                 \n",
       "F       14742  0.486454\n",
       "M       14623  0.482528\n",
       "Other     580  0.019139\n",
       "9999      360  0.011879"
      ]
     },
     "execution_count": 19,
     "metadata": {},
     "output_type": "execute_result"
    }
   ],
   "source": [
    "gender_breakdown = pd.concat([raw_df['gender'].value_counts(),\n",
    "                              raw_df['gender'].value_counts(normalize=True)],\n",
    "                             axis=1, keys=['Count', '%'])\n",
    "gender_breakdown"
   ]
  },
  {
   "cell_type": "markdown",
   "id": "8e8c8109-ffda-42ff-af52-0cd8a8b03953",
   "metadata": {},
   "source": [
    "### Train/test split\n",
    "\n",
    "* The raw data is divided using an 80/20 train/test split."
   ]
  },
  {
   "cell_type": "code",
   "execution_count": 20,
   "id": "cd3238d8-f30c-4d88-83b3-aa1763d4d200",
   "metadata": {},
   "outputs": [
    {
     "name": "stdout",
     "output_type": "stream",
     "text": [
      "Train set dimensions: (24244, 15)\n",
      "Test set dimensions: (6061, 15)\n"
     ]
    }
   ],
   "source": [
    "# Divide train/test data\n",
    "X_cols = [x for x in raw_df.columns if x != 'annual_net_savings_lbg']\n",
    "X_train, X_test, y_train, y_test = train_test_split(\n",
    "    raw_df[X_cols], raw_df['annual_net_savings_lbg'], test_size=0.2, random_state=42\n",
    ")\n",
    "train_df = pd.concat([X_train, y_train], axis=1).reset_index(drop=True)\n",
    "test_df = pd.concat([X_test, y_test], axis=1).reset_index(drop=True)\n",
    "\n",
    "print(f'Train set dimensions: {train_df.shape}')\n",
    "print(f'Test set dimensions: {test_df.shape}')"
   ]
  },
  {
   "cell_type": "markdown",
   "id": "9f69e319-5cc4-4d74-9fca-a18c392f65f2",
   "metadata": {},
   "source": [
    "### Impute missing values\n",
    "\n",
    "* The missing values in the other_income and housing_income columns are imputed via regression using a random forest. This decision was made as earlier work indicated the occurence of missing values is not completely at random and can be predicted with high accuracy using a random forest trained with observed values.\n",
    "\n",
    "* A visual comparison of the other_income and housing_income distributions before and after imputation does reveal any substantial difference.\n",
    "\n",
    "* The missing values in the credit_score column are dropped. Given these missing values appear to occur completely at random this is unlikely to introduce significant bias."
   ]
  },
  {
   "cell_type": "code",
   "execution_count": 21,
   "id": "a0da78ca-6dfe-4594-9674-b7650105ffd7",
   "metadata": {},
   "outputs": [
    {
     "name": "stdout",
     "output_type": "stream",
     "text": [
      "\n",
      "-----------------------------Missing values in training set-----------------------------\n"
     ]
    },
    {
     "data": {
      "text/html": [
       "<div>\n",
       "<style scoped>\n",
       "    .dataframe tbody tr th:only-of-type {\n",
       "        vertical-align: middle;\n",
       "    }\n",
       "\n",
       "    .dataframe tbody tr th {\n",
       "        vertical-align: top;\n",
       "    }\n",
       "\n",
       "    .dataframe thead th {\n",
       "        text-align: right;\n",
       "    }\n",
       "</style>\n",
       "<table border=\"1\" class=\"dataframe\">\n",
       "  <thead>\n",
       "    <tr style=\"text-align: right;\">\n",
       "      <th></th>\n",
       "      <th>Count</th>\n",
       "      <th>%</th>\n",
       "    </tr>\n",
       "  </thead>\n",
       "  <tbody>\n",
       "    <tr>\n",
       "      <th>other_income</th>\n",
       "      <td>3387</td>\n",
       "      <td>0.139705</td>\n",
       "    </tr>\n",
       "    <tr>\n",
       "      <th>housing_spend</th>\n",
       "      <td>5892</td>\n",
       "      <td>0.243029</td>\n",
       "    </tr>\n",
       "    <tr>\n",
       "      <th>credit_score</th>\n",
       "      <td>851</td>\n",
       "      <td>0.035101</td>\n",
       "    </tr>\n",
       "  </tbody>\n",
       "</table>\n",
       "</div>"
      ],
      "text/plain": [
       "               Count         %\n",
       "other_income    3387  0.139705\n",
       "housing_spend   5892  0.243029\n",
       "credit_score     851  0.035101"
      ]
     },
     "metadata": {},
     "output_type": "display_data"
    },
    {
     "name": "stdout",
     "output_type": "stream",
     "text": [
      "\n",
      "-----------------------------Missing values in test set-----------------------------\n"
     ]
    },
    {
     "data": {
      "text/html": [
       "<div>\n",
       "<style scoped>\n",
       "    .dataframe tbody tr th:only-of-type {\n",
       "        vertical-align: middle;\n",
       "    }\n",
       "\n",
       "    .dataframe tbody tr th {\n",
       "        vertical-align: top;\n",
       "    }\n",
       "\n",
       "    .dataframe thead th {\n",
       "        text-align: right;\n",
       "    }\n",
       "</style>\n",
       "<table border=\"1\" class=\"dataframe\">\n",
       "  <thead>\n",
       "    <tr style=\"text-align: right;\">\n",
       "      <th></th>\n",
       "      <th>Count</th>\n",
       "      <th>%</th>\n",
       "    </tr>\n",
       "  </thead>\n",
       "  <tbody>\n",
       "    <tr>\n",
       "      <th>other_income</th>\n",
       "      <td>851</td>\n",
       "      <td>0.140406</td>\n",
       "    </tr>\n",
       "    <tr>\n",
       "      <th>housing_spend</th>\n",
       "      <td>1464</td>\n",
       "      <td>0.241544</td>\n",
       "    </tr>\n",
       "    <tr>\n",
       "      <th>credit_score</th>\n",
       "      <td>199</td>\n",
       "      <td>0.032833</td>\n",
       "    </tr>\n",
       "  </tbody>\n",
       "</table>\n",
       "</div>"
      ],
      "text/plain": [
       "               Count         %\n",
       "other_income     851  0.140406\n",
       "housing_spend   1464  0.241544\n",
       "credit_score     199  0.032833"
      ]
     },
     "metadata": {},
     "output_type": "display_data"
    }
   ],
   "source": [
    "# Missing values in the training data\n",
    "train_nan_summary = pd.concat([train_df.isnull().sum()[(train_df.isnull().sum() > 1)],\n",
    "                               train_df.isnull().sum()[(train_df.isnull().sum() > 1)] / train_df.shape[0]],\n",
    "                              axis=1, keys=['Count', '%']\n",
    "                             )\n",
    "\n",
    "# Missing values in the test data\n",
    "test_nan_summary = pd.concat([test_df.isnull().sum()[(test_df.isnull().sum() > 1)],\n",
    "                               test_df.isnull().sum()[(test_df.isnull().sum() > 1)] / test_df.shape[0]],\n",
    "                              axis=1, keys=['Count', '%']\n",
    "                             )\n",
    "print(f'\\n-----------------------------Missing values in training set-----------------------------')\n",
    "display(train_nan_summary)\n",
    "print(f'\\n-----------------------------Missing values in test set-----------------------------')\n",
    "display(test_nan_summary)"
   ]
  },
  {
   "cell_type": "code",
   "execution_count": 22,
   "id": "2edbbcb9-c229-4991-b9cf-cefdd4b36338",
   "metadata": {},
   "outputs": [],
   "source": [
    "# Create copies of train/test set for data cleansing\n",
    "clean_train_df = train_df.copy(deep=True)\n",
    "clean_test_df = test_df.copy(deep=True)"
   ]
  },
  {
   "cell_type": "code",
   "execution_count": 23,
   "id": "7f13d712-65e0-472d-97d2-558f9db13083",
   "metadata": {},
   "outputs": [
    {
     "name": "stdout",
     "output_type": "stream",
     "text": [
      "other_income {'rf_model__max_depth': 20, 'rf_model__n_estimators': 10}\n",
      "housing_spend {'rf_model__max_depth': None, 'rf_model__n_estimators': 10}\n"
     ]
    }
   ],
   "source": [
    "# Impute missing values in training data\n",
    "features_missing_values = ['other_income', 'housing_spend', 'credit_score']\n",
    "\n",
    "for col in ['other_income', 'housing_spend']:\n",
    "    # Drop other features missing values in the training data\n",
    "    temporary_train_df = clean_train_df.drop(\n",
    "        columns=[x for x in features_missing_values if x != col]\n",
    "    )\n",
    "\n",
    "    # Split training data into records with and without missing values\n",
    "    train_with_missing = temporary_train_df[temporary_train_df[col].isnull()].reset_index(drop=True)\n",
    "    train_without_missing = temporary_train_df.dropna().reset_index(drop=True)\n",
    "\n",
    "    # Prepare data for training the model\n",
    "    y_train = train_without_missing[col]\n",
    "    X_train = train_without_missing.drop(col, axis=1)\n",
    "    X_test = train_with_missing.drop(col, axis=1)\n",
    "\n",
    "    # Create pipeline\n",
    "    categorical_features = ['gender', 'ethnicity_group', 'geo_region']\n",
    "    preprocessor = ColumnTransformer(\n",
    "        transformers=[(\n",
    "            'onehot', OneHotEncoder(handle_unknown='ignore'), categorical_features)],\n",
    "        remainder='passthrough'\n",
    "    )\n",
    "    pipeline = Pipeline([\n",
    "        ('preprocessor', preprocessor),\n",
    "        ('rf_model', RandomForestRegressor(random_state=42))\n",
    "    ])\n",
    "\n",
    "    # Grid search\n",
    "    param_grid = {\n",
    "        'rf_model__n_estimators': [10],\n",
    "        'rf_model__max_depth': [None, 10, 20]\n",
    "    }\n",
    "    grid_search = GridSearchCV(\n",
    "        pipeline, param_grid, cv=5, scoring='neg_mean_squared_error'\n",
    "    )\n",
    "    grid_search.fit(X_train, y_train)\n",
    "\n",
    "    # Best configuration\n",
    "    best_model = grid_search.best_estimator_\n",
    "    print(col, grid_search.best_params_)\n",
    "\n",
    "    # Predict missing values in training set\n",
    "    y_pred = best_model.predict(X_test)\n",
    "\n",
    "    # Fill missing values in training set\n",
    "    Xy_pred = pd.concat([X_test, pd.Series(y_pred, name=col)], axis=1)\n",
    "    clean_train_df = clean_train_df.merge(\n",
    "        Xy_pred[['cust_unique_id', col]], how='left', on='cust_unique_id'\n",
    "    )\n",
    "    clean_train_df[col] = clean_train_df[col + '_x'].fillna(\n",
    "        clean_train_df[col + '_y']\n",
    "    )\n",
    "    clean_train_df = clean_train_df.drop(\n",
    "        columns=[col + '_x', col + '_y'])\n",
    "\n",
    "    # Predict missing values in test set\n",
    "    test_with_missing = clean_test_df[clean_test_df[col].isnull()].drop(columns=features_missing_values).reset_index(drop=True)\n",
    "    test_y_pred = best_model.predict(test_with_missing)\n",
    "\n",
    "    # Fill missing values in test set \n",
    "    test_Xy_pred = pd.concat(\n",
    "        [test_with_missing, pd.Series(test_y_pred, name=col)], axis=1\n",
    "    )\n",
    "    clean_test_df = clean_test_df.merge(\n",
    "        test_Xy_pred[['cust_unique_id', col]], how='left', on='cust_unique_id'\n",
    "    )\n",
    "    clean_test_df[col] = clean_test_df[col + '_x'].fillna(\n",
    "        clean_test_df[col + '_y']\n",
    "    )\n",
    "    clean_test_df = clean_test_df.drop(\n",
    "        columns=[col + '_x', col + '_y']\n",
    "    )"
   ]
  },
  {
   "cell_type": "code",
   "execution_count": 24,
   "id": "80e2ece6-ea2d-4707-aaf5-66ab1af1b63c",
   "metadata": {},
   "outputs": [
    {
     "data": {
      "image/png": "[encoded data removed]",
      "text/plain": [
       "<Figure size 640x320 with 2 Axes>"
      ]
     },
     "metadata": {},
     "output_type": "display_data"
    }
   ],
   "source": [
    "# Visualise training set distributions before & after imputation\n",
    "fig, axes = plt.subplots(\n",
    "    nrows=1, ncols=2, constrained_layout=True, figsize=(6.4, 4.8/1.5)\n",
    ")\n",
    "i = 0\n",
    "axes = axes.flatten()\n",
    "for col in ['other_income', 'housing_spend']:\n",
    "    axes[i].hist(\n",
    "        clean_train_df[col], alpha=0.2, edgecolor='blue', label='imputed'\n",
    "    )\n",
    "    axes[i].hist(\n",
    "        train_df[col], alpha=0.2, edgecolor='orange', label='original'\n",
    "    )\n",
    "    axes[i].set_title(\n",
    "        col, fontsize=10, color='dimgray'\n",
    "    )\n",
    "    i += 1\n",
    "\n",
    "for ax in axes:\n",
    "    ax.tick_params(bottom=False, left=False)\n",
    "    ax.grid(False)\n",
    "    ax.spines[['top', 'right']].set_visible(False)\n",
    "    ax.spines[['left', 'bottom']].set_color('dimgray')\n",
    "    ax.legend(loc='best')"
   ]
  },
  {
   "cell_type": "code",
   "execution_count": 25,
   "id": "45336ba1-1785-469b-ab54-47a360f09c75",
   "metadata": {},
   "outputs": [
    {
     "data": {
      "image/png": "[encoded data removed]",
      "text/plain": [
       "<Figure size 640x320 with 2 Axes>"
      ]
     },
     "metadata": {},
     "output_type": "display_data"
    }
   ],
   "source": [
    "# Visualise test set distributions before & after imputation\n",
    "fig, axes = plt.subplots(\n",
    "    nrows=1, ncols=2, constrained_layout=True, figsize=(6.4, 4.8/1.5)\n",
    ")\n",
    "i = 0\n",
    "axes = axes.flatten()\n",
    "for col in ['other_income', 'housing_spend']:\n",
    "    axes[i].hist(\n",
    "        clean_test_df[col], alpha=0.2, edgecolor='blue', label='imputed'\n",
    "    )\n",
    "    axes[i].hist(\n",
    "        test_df[col], alpha=0.2, edgecolor='orange', label='original'\n",
    "    )\n",
    "    axes[i].set_title(\n",
    "        col, fontsize=10, color='dimgray'\n",
    "    )\n",
    "    i += 1\n",
    "\n",
    "for ax in axes:\n",
    "    ax.tick_params(bottom=False, left=False)\n",
    "    ax.grid(False)\n",
    "    ax.spines[['top', 'right']].set_visible(False)\n",
    "    ax.spines[['left', 'bottom']].set_color('dimgray')\n",
    "    ax.legend(loc='best')"
   ]
  },
  {
   "cell_type": "code",
   "execution_count": 26,
   "id": "c66b5879-ee5d-4318-8481-ca373145be30",
   "metadata": {},
   "outputs": [
    {
     "name": "stdout",
     "output_type": "stream",
     "text": [
      "Training set shape before imputation:(24244, 15)\n",
      "Test set shape before imputation:(6061, 15)\n",
      "Training set shape after imputation:(23393, 15)\n",
      "Test set shape after imputation:(5862, 15)\n"
     ]
    }
   ],
   "source": [
    "# Drop missing values in the credit_score column\n",
    "print(f\"Training set shape before imputation:{clean_train_df.shape}\")\n",
    "print(f\"Test set shape before imputation:{clean_test_df.shape}\")\n",
    "\n",
    "clean_train_df = clean_train_df[clean_train_df['credit_score'].isna(\n",
    ") == False].reset_index(drop=True)\n",
    "clean_test_df = clean_test_df[clean_test_df['credit_score'].isna(\n",
    ") == False].reset_index(drop=True)\n",
    "\n",
    "print(f\"Training set shape after imputation:{clean_train_df.shape}\")\n",
    "print(f\"Test set shape after imputation:{clean_test_df.shape}\")"
   ]
  },
  {
   "cell_type": "markdown",
   "id": "1ae62f94-edec-4d20-881a-51739ec21d13",
   "metadata": {},
   "source": [
    "### Outliers\n",
    "* The outlier present in the observed_surplus column is dropped as it was roughly 29 standard deviations lower than the mean. This is highly unlikely.\n",
    "\n",
    "    Note: A normal quantile-quantile plot is used to assess normality of the observed_surplus column. It is roughly normal but does display a negative skew.\n",
    "\n",
    "* The outlier in the gambling_spend column is left untouched. Instead its influence on later modelling will assessed. If its presence significantly affects outcomes, it may be excluded.\n",
    "\n",
    "    Note: The distribution of gambling_spend is clearly not normal. The outlier is therefore not excluded on the basis of its z score."
   ]
  },
  {
   "cell_type": "markdown",
   "id": "1375666e-8310-4f68-8860-fd51ca1de5df",
   "metadata": {},
   "source": [
    "#### Background"
   ]
  },
  {
   "cell_type": "markdown",
   "id": "1d3bfbd7-fd3c-4276-9d4a-90b249a9e72e",
   "metadata": {},
   "source": [
    "**1) Quantile–quantile plot**\n",
    "\n",
    "* A graphical method for comparing two probability distributions by plotting their quantiles against each other.\n",
    "\n",
    "* In this instance, we are comparing the 'observed_surplus' when standardised to the standard normal distribution.\n",
    "\n",
    "    * Blue: Ordered observed values vs corresponding z-scores\n",
    " \n",
    "        $z_{actual} = \\frac{x_{actual}-\\bar{x}}{s}$\n",
    "\n",
    "    * Red: Theoretical values vs theoretical z-scores\n",
    " \n",
    "        $x_{theory} = z_{theory}s + \\bar{x}$\n",
    "\n",
    "        Note: A z score of 0 corresponds to the 50th percentile\n",
    "\n",
    "Additional notes:\n",
    "\n",
    "* Theoretical quantiles (e.g. percentiles) may be plotted across the x-axis.\n",
    "\n",
    "* For a standard normal distribution, percentiles can be calculated using the $68-95-99.7$ rule:\n",
    "\n",
    "  <img src=\"./figures/percentiles_zscores.png\" align=\"centre\" width=\"350\" />\n",
    "\n",
    "* Note a q-q plot can be used to compare any two distributions. For non-normal distributions, the theoretical value of a random variable $X$ for a given percentile can be calculated using the inverse of its CDF:\n",
    "\n",
    "    $F_X(x)=P(X\\leq x)$\n",
    "\n",
    "    $F^{-1}(p)=x$\n",
    "\n",
    "    $F^{-1}(0.5)=x_{median}$\n",
    "  \n",
    "    *Where $F_X(x)$ is the CDF and its inverse $F^-1(p)$ is the quantile function.*"
   ]
  },
  {
   "cell_type": "markdown",
   "id": "3ffd0d97-18b5-4ecc-a866-155feddbb494",
   "metadata": {},
   "source": [
    "#### Analyses"
   ]
  },
  {
   "cell_type": "markdown",
   "id": "b3701426-c0cd-4bba-a8dd-cc14a7781fef",
   "metadata": {},
   "source": [
    "* The distribution is approximately normal but does exhibit a negative skew."
   ]
  },
  {
   "cell_type": "code",
   "execution_count": 30,
   "id": "b1894fc5-8b64-415f-bf1c-7ff5abefa00e",
   "metadata": {},
   "outputs": [
    {
     "name": "stderr",
     "output_type": "stream",
     "text": [
      "No artists with labels found to put in legend.  Note that artists whose label start with an underscore are ignored when legend() is called with no argument.\n"
     ]
    },
    {
     "name": "stdout",
     "output_type": "stream",
     "text": [
      "Sample Mean (excluding minimum value): 51267.07948272914\n",
      "Sample Standard Deviation (excluding minimum value): 15848.924804039245\n",
      "Outlier z-score: -29.017904695056583\n"
     ]
    },
    {
     "data": {
      "text/plain": [
       "<matplotlib.legend.Legend at 0x2315fe7f9d0>"
      ]
     },
     "execution_count": 30,
     "metadata": {},
     "output_type": "execute_result"
    },
    {
     "data": {
      "image/png": "[encoded data removed]",
      "text/plain": [
       "<Figure size 426.667x320 with 1 Axes>"
      ]
     },
     "metadata": {},
     "output_type": "display_data"
    }
   ],
   "source": [
    "# Find and exclude the outlier\n",
    "outlier = raw_df['observed_surplus'].min()\n",
    "surplus_without_outlier = clean_train_df.loc[clean_train_df['observed_surplus']\n",
    "                                                 != outlier, 'observed_surplus']\n",
    "\n",
    "# Calculate the sample standard deviation for the modified data\n",
    "sample_std_dev= np.std(surplus_without_outlier, ddof=1)\n",
    "sample_mean= surplus_without_outlier.mean()\n",
    "outlier_zscore= (outlier - sample_mean)/sample_std_dev\n",
    "print(f\"Sample Mean (excluding minimum value): {sample_mean}\")\n",
    "print(f\"Sample Standard Deviation (excluding minimum value): {sample_std_dev}\")\n",
    "print(f\"Outlier z-score: {outlier_zscore}\")\n",
    "\n",
    "# Visualise q-q plot for the modified data\n",
    "fig, axes= plt.subplots(\n",
    "    nrows=1, ncols=1, constrained_layout=True, figsize=(6.4/1.5, 4.8/1.5)\n",
    ")\n",
    "probplot(surplus_without_outlier, dist=\"norm\", plot=axes)\n",
    "axes.set_title('Normal quantitle-quantile plot', fontsize=10, color='dimgray')\n",
    "axes.set_ylabel('Observed values', fontsize=10, color='dimgray')\n",
    "axes.set_xlabel('Theoretical quantiles', fontsize=10, color='dimgray')\n",
    "axes.tick_params(bottom=False, left=False)\n",
    "axes.grid(False)\n",
    "axes.spines[['top', 'right']].set_visible(False)\n",
    "axes.spines[['left', 'bottom']].set_color('dimgray')"
   ]
  },
  {
   "cell_type": "code",
   "execution_count": 28,
   "id": "d499487f-56c5-4477-afb4-87d7eb876e4d",
   "metadata": {},
   "outputs": [
    {
     "name": "stdout",
     "output_type": "stream",
     "text": [
      "Training set shape before outlier removal:(23393, 15)\n",
      "Training set shape after outlier removal:(23392, 15)\n"
     ]
    }
   ],
   "source": [
    "# Remove outlier\n",
    "print(f\"Training set shape before outlier removal:{clean_train_df.shape}\")\n",
    "clean_train_df = clean_train_df[clean_train_df['observed_surplus'] != outlier]\n",
    "print(f\"Training set shape after outlier removal:{clean_train_df.shape}\")"
   ]
  },
  {
   "cell_type": "markdown",
   "id": "2c954282-1a72-4ee6-a342-f0769d4c9fc4",
   "metadata": {},
   "source": [
    "# Save data"
   ]
  },
  {
   "cell_type": "code",
   "execution_count": 29,
   "id": "9e65632d-10d9-41de-b826-55acd2ff289a",
   "metadata": {},
   "outputs": [],
   "source": [
    "clean_train_df.to_csv('../data/cleaned/clean_train.csv', index=False)\n",
    "clean_test_df.to_csv('../data/cleaned/clean_test.csv', index=False)"
   ]
  }
 ],
 "metadata": {
  "kernelspec": {
   "display_name": "topic_analyses",
   "language": "python",
   "name": "topic_analyses"
  },
  "language_info": {
   "codemirror_mode": {
    "name": "ipython",
    "version": 3
   },
   "file_extension": ".py",
   "mimetype": "text/x-python",
   "name": "python",
   "nbconvert_exporter": "python",
   "pygments_lexer": "ipython3",
   "version": "3.11.5"
  }
 },
 "nbformat": 4,
 "nbformat_minor": 5
}
